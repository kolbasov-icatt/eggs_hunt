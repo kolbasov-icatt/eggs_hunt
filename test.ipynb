{
 "cells": [
  {
   "cell_type": "code",
   "execution_count": 25,
   "id": "bbe25536",
   "metadata": {},
   "outputs": [],
   "source": [
    "from utils import *\n",
    "from env import EggsHuntEnv\n",
    "from algs_dp import *\n",
    "from algs_td import *\n",
    "from algs_vfa import *\n",
    "from algs_mc import *\n",
    "from algs_dqn import *"
   ]
  },
  {
   "cell_type": "markdown",
   "id": "64c14439-31be-4405-a2ed-49762c71d331",
   "metadata": {},
   "source": [
    "# 2 rooms"
   ]
  },
  {
   "cell_type": "code",
   "execution_count": 26,
   "id": "0c067f86",
   "metadata": {},
   "outputs": [
    {
     "name": "stdout",
     "output_type": "stream",
     "text": [
      "Number of states: 36\n",
      "Terminal states:\n",
      "('Room 1', 5, 2)\n",
      "('Room 2', 5, 2)\n",
      "==================\n",
      "Possbile actions:\n",
      "search\n",
      "stay\n",
      "go_to_room_1\n",
      "go_to_room_2\n"
     ]
    }
   ],
   "source": [
    " # Maximum number of eggs for each room\n",
    "n_eggs_list =     [5,    2 ,   #4 , 7, 6,\n",
    "                  ]\n",
    "# Number of rooms\n",
    "n_rooms = len(n_eggs_list)  \n",
    "\n",
    "# Initial probabilities to find an egg for each room\n",
    "initial_p_list =  [0.8,  0.3 , #0.5, 0.9, 0.6\n",
    "                  ]\n",
    "\n",
    "# Decay probability rates for each room\n",
    "decay_rate_list = [0.8,  0.9  , #0.7, 0.6, 0.4\n",
    "                  ]\n",
    "\n",
    "GAMMA = 0.9\n",
    "\n",
    "ALPHA = 0.1\n",
    "\n",
    "# create the environment\n",
    "transition_probabilities, states, actions, total_eggs = create_environment(n_rooms, n_eggs_list, initial_p_list, decay_rate_list)\n",
    "\n",
    "# initialize the environment\n",
    "env = EggsHuntEnv(states, actions, transition_probabilities, total_eggs)\n",
    "\n",
    "env.reset()\n",
    "print(f'Number of states: {env.num_states}')\n",
    "\n",
    "print('Terminal states:')\n",
    "for state in env.states:\n",
    "    if env.is_terminal_state(state):\n",
    "        print(env.get_state_name(state))\n",
    "\n",
    "print('==================')\n",
    "print('Possbile actions:')\n",
    "for action in env.actions:\n",
    "    print(env.get_action_name(action))"
   ]
  },
  {
   "cell_type": "code",
   "execution_count": 27,
   "id": "af0a44cc-5e21-45f1-af01-02724bad2e28",
   "metadata": {},
   "outputs": [],
   "source": [
    "random_policy = create_random_policy(env)"
   ]
  },
  {
   "cell_type": "code",
   "execution_count": 28,
   "id": "618ce9a7-aec5-48ce-9630-cf3225c08a0b",
   "metadata": {},
   "outputs": [],
   "source": [
    "num_runs = 500  # number of runs\n",
    "n_episodes = 100 # number of episodes in each run"
   ]
  },
  {
   "cell_type": "markdown",
   "id": "5d389291",
   "metadata": {},
   "source": [
    "## DP"
   ]
  },
  {
   "cell_type": "code",
   "execution_count": 29,
   "id": "1fd6f9b2-ea07-41e2-800c-8b14f3b907f7",
   "metadata": {},
   "outputs": [
    {
     "data": {
      "text/plain": [
       "0"
      ]
     },
     "execution_count": 29,
     "metadata": {},
     "output_type": "execute_result"
    }
   ],
   "source": [
    "env.reset()"
   ]
  },
  {
   "cell_type": "code",
   "execution_count": 30,
   "id": "ce317b09",
   "metadata": {
    "scrolled": true
   },
   "outputs": [
    {
     "data": {
      "text/plain": [
       "array([30.26441909, 29.17797415, 28.3644854 , 23.91304622, 22.67508484,\n",
       "       21.74844964, 18.2042052 , 16.75076433, 15.66311692, 13.16226565,\n",
       "       11.39296435, 10.06917889,  8.82513738,  6.57558322,  4.892634  ,\n",
       "        5.26613558,  2.25363959,  0.        , 26.23797718, 25.26017674,\n",
       "       24.52803686, 20.5217416 , 19.40757635, 18.57360467, 15.38378468,\n",
       "       14.0756879 , 13.09680523, 11.13000234,  9.32683241,  8.062261  ,\n",
       "        8.72174006,  6.02627105,  3.4033706 ,  6.96238679,  3.6151569 ,\n",
       "        0.        ])"
      ]
     },
     "execution_count": 30,
     "metadata": {},
     "output_type": "execute_result"
    }
   ],
   "source": [
    "policy_dp, V, Q_dp = policy_iteration(env, gamma=GAMMA, threshold=0.001, verbose=False)\n",
    "V"
   ]
  },
  {
   "cell_type": "code",
   "execution_count": 31,
   "id": "a0dc9b62-f896-403d-928f-19dc364bd142",
   "metadata": {},
   "outputs": [],
   "source": [
    "env.reset()\n",
    "\n",
    "# This is for one policy\n",
    "total_return = 0 \n",
    "for n in range(num_runs):\n",
    "    for ep in range(n_episodes):\n",
    "        action = np.argmax(policy_dp[env.current_state])\n",
    "        reward, next_state, done = env.step(action)\n",
    "        if done:\n",
    "            #print(f'Completed in {ep} episodes')\n",
    "            break\n",
    "        total_return += reward  # return for one run, but they can be different so we need to average them over many independent runs\n",
    "    env.reset()\n",
    "        \n",
    "# average return of the policy \"policy_dp\"\n",
    "avarage_return_dp=total_return/ num_runs"
   ]
  },
  {
   "cell_type": "code",
   "execution_count": 32,
   "id": "6687e44e-4c82-4f60-9613-86baebcb3cad",
   "metadata": {},
   "outputs": [
    {
     "data": {
      "text/plain": [
       "38.008"
      ]
     },
     "execution_count": 32,
     "metadata": {},
     "output_type": "execute_result"
    }
   ],
   "source": [
    "avarage_return_dp"
   ]
  },
  {
   "cell_type": "markdown",
   "id": "6e61da20",
   "metadata": {},
   "source": [
    "## MC"
   ]
  },
  {
   "cell_type": "code",
   "execution_count": 33,
   "id": "d3aaaea7-30a3-44e0-a1aa-643c690cfe82",
   "metadata": {},
   "outputs": [
    {
     "data": {
      "text/plain": [
       "0"
      ]
     },
     "execution_count": 33,
     "metadata": {},
     "output_type": "execute_result"
    }
   ],
   "source": [
    "env.reset()"
   ]
  },
  {
   "cell_type": "code",
   "execution_count": 34,
   "id": "99a70722",
   "metadata": {},
   "outputs": [],
   "source": [
    "optimal_policy_mc, Q_mc= MC_onpolicy(env, policy=None, eps=0.01, num_timesteps=500, num_iterations=10000)"
   ]
  },
  {
   "cell_type": "code",
   "execution_count": 35,
   "id": "27ecefdb-a064-41b3-9d37-1533ab3a43c1",
   "metadata": {},
   "outputs": [],
   "source": [
    "env.reset()\n",
    "\n",
    "# This is for one policy\n",
    "total_return = 0 \n",
    "for n in range(num_runs):\n",
    "    for ep in range(n_episodes):\n",
    "        action = np.argmax(optimal_policy_mc[env.current_state])\n",
    "        reward, next_state, done = env.step(action)\n",
    "        if done:\n",
    "            #print(f'Completed in {ep} episodes')\n",
    "            break\n",
    "        total_return += reward  # return for one run, but they can be different so we need to average them over many independent runs\n",
    "    env.reset()\n",
    "        \n",
    "# average return of the policy \"optimal_policy_mc\"\n",
    "avarage_return_mc=total_return/ num_runs"
   ]
  },
  {
   "cell_type": "code",
   "execution_count": 36,
   "id": "6b527397-6035-427c-8d84-997d6f394d51",
   "metadata": {},
   "outputs": [
    {
     "data": {
      "text/plain": [
       "37.952"
      ]
     },
     "execution_count": 36,
     "metadata": {},
     "output_type": "execute_result"
    }
   ],
   "source": [
    "avarage_return_mc"
   ]
  },
  {
   "cell_type": "markdown",
   "id": "2d6bc8dd",
   "metadata": {},
   "source": [
    "## TD"
   ]
  },
  {
   "cell_type": "code",
   "execution_count": 37,
   "id": "56af63b3",
   "metadata": {
    "scrolled": true
   },
   "outputs": [],
   "source": [
    "Q = temploral_difference_policy_evaluation(env, policy=random_policy, n_steps=10000, gamma=GAMMA, alpha=ALPHA)"
   ]
  },
  {
   "cell_type": "markdown",
   "id": "c1be9c61-d3f2-4349-8526-8d7e4a1936b7",
   "metadata": {},
   "source": [
    "### Sarsa"
   ]
  },
  {
   "cell_type": "code",
   "execution_count": 38,
   "id": "1249087f",
   "metadata": {
    "scrolled": true
   },
   "outputs": [
    {
     "name": "stdout",
     "output_type": "stream",
     "text": [
      "Passed 0 steps.\n",
      "Passed 0 steps.\n",
      "Passed 0 steps.\n",
      "Passed 0 steps.\n",
      "Passed 0 steps.\n",
      "Passed 0 steps.\n",
      "Passed 0 steps.\n",
      "Passed 0 steps.\n",
      "Passed 0 steps.\n",
      "Passed 0 steps.\n",
      "Passed 0 steps.\n",
      "Passed 0 steps.\n",
      "Passed 0 steps.\n",
      "Passed 0 steps.\n",
      "Passed 0 steps.\n",
      "Passed 0 steps.\n",
      "Passed 0 steps.\n",
      "Passed 0 steps.\n",
      "Passed 0 steps.\n",
      "Passed 0 steps.\n",
      "Passed 0 steps.\n",
      "Passed 0 steps.\n",
      "Passed 0 steps.\n",
      "Passed 0 steps.\n",
      "Passed 0 steps.\n",
      "Passed 0 steps.\n",
      "Passed 0 steps.\n",
      "Passed 0 steps.\n",
      "Passed 0 steps.\n",
      "Passed 0 steps.\n",
      "Passed 0 steps.\n",
      "Passed 0 steps.\n",
      "Passed 0 steps.\n",
      "Passed 0 steps.\n",
      "Passed 0 steps.\n",
      "Passed 0 steps.\n",
      "Passed 0 steps.\n",
      "Passed 0 steps.\n",
      "Passed 0 steps.\n",
      "Passed 0 steps.\n",
      "Passed 0 steps.\n",
      "Passed 0 steps.\n",
      "Passed 0 steps.\n",
      "Passed 0 steps.\n",
      "Passed 0 steps.\n",
      "Passed 0 steps.\n",
      "Passed 0 steps.\n",
      "Passed 0 steps.\n",
      "Passed 0 steps.\n",
      "Passed 0 steps.\n",
      "Passed 0 steps.\n",
      "Passed 0 steps.\n",
      "Passed 0 steps.\n",
      "Passed 0 steps.\n",
      "Passed 0 steps.\n",
      "Passed 0 steps.\n",
      "Passed 0 steps.\n",
      "Passed 0 steps.\n",
      "Passed 0 steps.\n",
      "Passed 0 steps.\n",
      "Passed 0 steps.\n",
      "Passed 0 steps.\n",
      "Passed 0 steps.\n",
      "Passed 0 steps.\n",
      "Passed 0 steps.\n",
      "Passed 0 steps.\n",
      "Passed 0 steps.\n",
      "Passed 0 steps.\n",
      "Passed 0 steps.\n",
      "Passed 0 steps.\n",
      "Passed 0 steps.\n",
      "Passed 0 steps.\n",
      "Passed 0 steps.\n",
      "Passed 0 steps.\n",
      "Passed 0 steps.\n",
      "Passed 0 steps.\n",
      "Passed 0 steps.\n",
      "Passed 0 steps.\n",
      "Passed 0 steps.\n",
      "Passed 0 steps.\n",
      "Passed 0 steps.\n",
      "Passed 0 steps.\n",
      "Passed 0 steps.\n",
      "Passed 0 steps.\n",
      "Passed 0 steps.\n",
      "Passed 0 steps.\n",
      "Passed 0 steps.\n",
      "Passed 0 steps.\n",
      "Passed 0 steps.\n",
      "Passed 0 steps.\n",
      "Passed 0 steps.\n",
      "Passed 0 steps.\n",
      "Passed 0 steps.\n",
      "Passed 0 steps.\n",
      "Passed 0 steps.\n",
      "Passed 0 steps.\n",
      "Passed 0 steps.\n",
      "Passed 0 steps.\n",
      "Passed 0 steps.\n",
      "Passed 0 steps.\n",
      "Passed 0 steps.\n",
      "Passed 0 steps.\n",
      "Passed 0 steps.\n",
      "Passed 0 steps.\n",
      "Passed 0 steps.\n",
      "Passed 0 steps.\n",
      "Passed 0 steps.\n",
      "Passed 0 steps.\n",
      "Passed 0 steps.\n",
      "Passed 0 steps.\n",
      "Passed 0 steps.\n",
      "Passed 0 steps.\n",
      "Passed 0 steps.\n",
      "Passed 0 steps.\n",
      "Passed 0 steps.\n",
      "Passed 0 steps.\n",
      "Passed 0 steps.\n",
      "Passed 0 steps.\n",
      "Passed 0 steps.\n",
      "Passed 0 steps.\n",
      "Passed 0 steps.\n",
      "Passed 0 steps.\n",
      "Passed 0 steps.\n",
      "Passed 0 steps.\n",
      "Passed 0 steps.\n",
      "Passed 0 steps.\n",
      "Passed 0 steps.\n",
      "Passed 0 steps.\n",
      "Passed 0 steps.\n",
      "Passed 0 steps.\n",
      "Passed 0 steps.\n",
      "Passed 0 steps.\n",
      "Passed 0 steps.\n",
      "Passed 0 steps.\n",
      "Passed 0 steps.\n",
      "Passed 0 steps.\n",
      "Passed 0 steps.\n",
      "Passed 0 steps.\n",
      "Passed 0 steps.\n",
      "Passed 0 steps.\n",
      "Passed 0 steps.\n",
      "Passed 0 steps.\n",
      "Passed 0 steps.\n",
      "Passed 0 steps.\n",
      "Passed 0 steps.\n",
      "Passed 0 steps.\n",
      "Passed 0 steps.\n",
      "Passed 0 steps.\n",
      "Passed 0 steps.\n",
      "Passed 0 steps.\n",
      "Passed 0 steps.\n",
      "Passed 0 steps.\n",
      "Passed 0 steps.\n",
      "Passed 0 steps.\n",
      "Passed 0 steps.\n",
      "Passed 0 steps.\n",
      "Passed 0 steps.\n",
      "Passed 0 steps.\n",
      "Passed 0 steps.\n",
      "Passed 0 steps.\n",
      "Passed 0 steps.\n",
      "Passed 0 steps.\n",
      "Passed 0 steps.\n",
      "Passed 0 steps.\n",
      "Passed 0 steps.\n",
      "Passed 0 steps.\n",
      "Passed 0 steps.\n",
      "Passed 0 steps.\n",
      "Passed 0 steps.\n",
      "Passed 0 steps.\n",
      "Passed 0 steps.\n",
      "Passed 0 steps.\n",
      "Passed 0 steps.\n",
      "Passed 0 steps.\n",
      "Passed 0 steps.\n",
      "Passed 0 steps.\n",
      "Passed 0 steps.\n",
      "Passed 0 steps.\n",
      "Passed 0 steps.\n",
      "Passed 0 steps.\n",
      "Passed 0 steps.\n",
      "Passed 0 steps.\n",
      "Passed 0 steps.\n",
      "Passed 0 steps.\n",
      "Passed 0 steps.\n",
      "Passed 0 steps.\n",
      "Passed 0 steps.\n",
      "Passed 0 steps.\n",
      "Passed 0 steps.\n",
      "Passed 0 steps.\n",
      "Passed 0 steps.\n",
      "Passed 0 steps.\n",
      "Passed 0 steps.\n",
      "Passed 0 steps.\n",
      "Passed 0 steps.\n",
      "Passed 0 steps.\n",
      "Passed 0 steps.\n",
      "Passed 0 steps.\n",
      "Passed 0 steps.\n",
      "Passed 0 steps.\n",
      "Passed 0 steps.\n",
      "Passed 0 steps.\n",
      "Passed 0 steps.\n",
      "Passed 0 steps.\n",
      "Passed 0 steps.\n",
      "Passed 0 steps.\n",
      "Passed 0 steps.\n",
      "Passed 0 steps.\n",
      "Passed 0 steps.\n",
      "Passed 0 steps.\n",
      "Passed 0 steps.\n",
      "Passed 0 steps.\n",
      "Passed 0 steps.\n",
      "Passed 0 steps.\n",
      "Passed 0 steps.\n",
      "Passed 0 steps.\n",
      "Passed 0 steps.\n",
      "Passed 0 steps.\n",
      "Passed 0 steps.\n",
      "Passed 0 steps.\n",
      "Passed 0 steps.\n",
      "Passed 0 steps.\n",
      "Passed 0 steps.\n",
      "Passed 0 steps.\n",
      "Passed 0 steps.\n",
      "Passed 0 steps.\n",
      "Passed 0 steps.\n",
      "Passed 0 steps.\n",
      "Passed 0 steps.\n",
      "Passed 0 steps.\n",
      "Passed 0 steps.\n",
      "Passed 0 steps.\n",
      "Passed 0 steps.\n",
      "Passed 0 steps.\n",
      "Passed 0 steps.\n",
      "Passed 0 steps.\n",
      "Passed 0 steps.\n",
      "Passed 0 steps.\n",
      "Passed 0 steps.\n",
      "Passed 0 steps.\n",
      "Passed 0 steps.\n",
      "Passed 0 steps.\n",
      "Passed 0 steps.\n",
      "Passed 0 steps.\n",
      "Passed 0 steps.\n",
      "Passed 0 steps.\n",
      "Passed 0 steps.\n",
      "Passed 0 steps.\n",
      "Passed 0 steps.\n",
      "Passed 0 steps.\n",
      "Passed 0 steps.\n",
      "Passed 0 steps.\n",
      "Passed 0 steps.\n",
      "Passed 0 steps.\n",
      "Passed 0 steps.\n",
      "Passed 0 steps.\n",
      "Passed 0 steps.\n",
      "Passed 0 steps.\n",
      "Passed 0 steps.\n",
      "Passed 0 steps.\n",
      "Passed 0 steps.\n",
      "Passed 0 steps.\n",
      "Passed 0 steps.\n",
      "Passed 0 steps.\n",
      "Passed 0 steps.\n",
      "Passed 0 steps.\n",
      "Passed 0 steps.\n",
      "Passed 0 steps.\n",
      "Passed 0 steps.\n",
      "Passed 0 steps.\n",
      "Passed 0 steps.\n",
      "Passed 0 steps.\n",
      "Passed 0 steps.\n",
      "Passed 0 steps.\n",
      "Passed 0 steps.\n",
      "Passed 0 steps.\n",
      "Passed 0 steps.\n",
      "Passed 0 steps.\n",
      "Passed 0 steps.\n",
      "Passed 0 steps.\n",
      "Passed 0 steps.\n",
      "Passed 0 steps.\n",
      "Passed 0 steps.\n",
      "Passed 0 steps.\n",
      "Passed 0 steps.\n",
      "Passed 0 steps.\n",
      "Passed 0 steps.\n",
      "Passed 0 steps.\n",
      "Passed 0 steps.\n",
      "Passed 0 steps.\n",
      "Passed 0 steps.\n",
      "Passed 0 steps.\n",
      "Passed 0 steps.\n",
      "Passed 0 steps.\n",
      "Passed 0 steps.\n",
      "Passed 0 steps.\n",
      "Passed 0 steps.\n",
      "Passed 0 steps.\n",
      "Passed 0 steps.\n",
      "Passed 0 steps.\n"
     ]
    }
   ],
   "source": [
    "num_runs = 300\n",
    "n_steps =  10000\n",
    "Q_list = []\n",
    "for n in range(num_runs):\n",
    "    optimal_policy, Q = sarsa(env, n_steps=n_steps, gamma=GAMMA, alpha=ALPHA, begin_epsilon=1, end_epsilon=0.001, verbose=True)\n",
    "    Q_list.append(Q)\n",
    "Q_td_sarsa = np.array(Q_list).mean(axis=0)"
   ]
  },
  {
   "cell_type": "code",
   "execution_count": 39,
   "id": "38e51d49",
   "metadata": {},
   "outputs": [],
   "source": [
    "policy_td_sarsa = compute_optimal_policy(env, Q_td_sarsa)"
   ]
  },
  {
   "cell_type": "code",
   "execution_count": 40,
   "id": "06c051a7-2068-4045-8804-3edad9dd3f7c",
   "metadata": {},
   "outputs": [],
   "source": [
    "env.reset()\n",
    "\n",
    "# This is for one policy\n",
    "total_return = 0 \n",
    "for n in range(num_runs):\n",
    "    for ep in range(n_episodes):\n",
    "        action = np.argmax(policy_td_sarsa[env.current_state])\n",
    "        reward, next_state, done = env.step(action)\n",
    "        if done:\n",
    "            #print(f'Completed in {ep} episodes')\n",
    "            break\n",
    "        total_return += reward  # return for one run, but they can be different so we need to average them over many independent runs\n",
    "    env.reset()\n",
    "        \n",
    "# average return of the policy \"policy_td_sarsa\"\n",
    "avarage_return_sarsa=total_return/ num_runs"
   ]
  },
  {
   "cell_type": "code",
   "execution_count": 41,
   "id": "6ba18779-5791-4edf-9eef-0483a2c17da6",
   "metadata": {},
   "outputs": [
    {
     "data": {
      "text/plain": [
       "38.06"
      ]
     },
     "execution_count": 41,
     "metadata": {},
     "output_type": "execute_result"
    }
   ],
   "source": [
    "avarage_return_sarsa"
   ]
  },
  {
   "cell_type": "markdown",
   "id": "920b293f-eabd-489d-b0eb-01a5d2b11c31",
   "metadata": {},
   "source": [
    "### Q-learning"
   ]
  },
  {
   "cell_type": "code",
   "execution_count": 42,
   "id": "53446659-191d-4b75-83aa-6cd81aee1fc9",
   "metadata": {},
   "outputs": [
    {
     "name": "stdout",
     "output_type": "stream",
     "text": [
      "Passed 0 steps.\n"
     ]
    }
   ],
   "source": [
    "n_steps = 100000\n",
    "policy_td_q_learning, Q = q_learning(env, n_steps=n_steps, gamma=GAMMA, alpha=ALPHA, begin_epsilon=1, end_epsilon=0.01, verbose=True)"
   ]
  },
  {
   "cell_type": "code",
   "execution_count": 43,
   "id": "e437e937-8779-4fc7-99ac-76e6a5a4302a",
   "metadata": {},
   "outputs": [],
   "source": [
    "env.reset()\n",
    "# This is for one policy policy_td_q_learning\n",
    "total_return = 0\n",
    "for n in range(num_runs):\n",
    "    for ep in range(n_episodes):\n",
    "        action = np.argmax(policy_td_q_learning[env.current_state])\n",
    "        reward, next_state, done = env.step(action)\n",
    "        if done:\n",
    "            #print(f'Completed in {ep} episodes')\n",
    "            break\n",
    "        total_return += reward  # return for one run, but they can be different so we need to average them over many independent runs\n",
    "    env.reset()\n",
    "        \n",
    "# average return of the policy \"policy_td_q_learning\"\n",
    "avarage_return_q=total_return/ num_runs"
   ]
  },
  {
   "cell_type": "code",
   "execution_count": 44,
   "id": "e5b4e168-6496-428c-82bc-27a1366f4f5a",
   "metadata": {},
   "outputs": [
    {
     "data": {
      "text/plain": [
       "38.446666666666665"
      ]
     },
     "execution_count": 44,
     "metadata": {},
     "output_type": "execute_result"
    }
   ],
   "source": [
    "avarage_return_q"
   ]
  },
  {
   "cell_type": "markdown",
   "id": "8a318963",
   "metadata": {},
   "source": [
    "# VFA"
   ]
  },
  {
   "cell_type": "code",
   "execution_count": 45,
   "id": "f225da32",
   "metadata": {},
   "outputs": [],
   "source": [
    "feature_extractor  = FeatureExtractor(env)"
   ]
  },
  {
   "cell_type": "code",
   "execution_count": 46,
   "id": "e96e3cc7-caeb-41fb-af0b-11728b1d45d2",
   "metadata": {},
   "outputs": [],
   "source": [
    "vfa = VFA(env, feature_extractor, alpha=ALPHA, gamma=GAMMA, epsilon=1)"
   ]
  },
  {
   "cell_type": "markdown",
   "id": "fbef4948-9e27-4781-98b8-852436859381",
   "metadata": {},
   "source": [
    "### Sarsa"
   ]
  },
  {
   "cell_type": "code",
   "execution_count": 47,
   "id": "9484ddcc-fa6a-4fe3-9494-c7b2db529ae8",
   "metadata": {},
   "outputs": [],
   "source": [
    "Q_vfa_sarsa = vfa.semi_gradient_sarsa(n_steps=200000, begin_epsilon=1, end_epsilon=0.1)\n",
    "policy_vfa_sarsa = compute_optimal_policy(env, Q_vfa_sarsa)"
   ]
  },
  {
   "cell_type": "code",
   "execution_count": 48,
   "id": "754ca0bc-3811-44fc-9d30-b06b39d923e1",
   "metadata": {},
   "outputs": [],
   "source": [
    "env.reset()\n",
    "# This is for one policy policy_vfa_sarsa\n",
    "total_return = 0\n",
    "for n in range(num_runs):\n",
    "    for ep in range(n_episodes):\n",
    "        action = np.argmax(policy_vfa_sarsa[env.current_state])\n",
    "        reward, next_state, done = env.step(action)\n",
    "        if done:\n",
    "            #print(f'Completed in {ep} episodes')\n",
    "            break\n",
    "        total_return += reward  # return for one run, but they can be different so we need to average them over many independent runs\n",
    "    env.reset()\n",
    "        \n",
    "# average return of the policy \"policy_vfa_sarsa\"\n",
    "avarage_return_VFA_sarsa=total_return/ num_runs"
   ]
  },
  {
   "cell_type": "code",
   "execution_count": 49,
   "id": "4f726a5d-c4d0-4f61-9077-48dceed24d56",
   "metadata": {},
   "outputs": [
    {
     "data": {
      "text/plain": [
       "-175.0"
      ]
     },
     "execution_count": 49,
     "metadata": {},
     "output_type": "execute_result"
    }
   ],
   "source": [
    "avarage_return_VFA_sarsa"
   ]
  },
  {
   "cell_type": "markdown",
   "id": "e5ac9b7d-c2d8-4b21-8cbb-980e9bb9d149",
   "metadata": {},
   "source": [
    "### Q-learning"
   ]
  },
  {
   "cell_type": "code",
   "execution_count": 50,
   "id": "6858fcbf",
   "metadata": {},
   "outputs": [],
   "source": [
    "Q_vfa_qlearning = vfa.semi_gradient_qlearning(n_steps=20000, begin_epsilon=1, end_epsilon=0.1)\n",
    "policy_vfa_qlearning = compute_optimal_policy(env, Q_vfa_qlearning)"
   ]
  },
  {
   "cell_type": "code",
   "execution_count": 51,
   "id": "c62f8157-9889-42e2-a392-cbe509658570",
   "metadata": {},
   "outputs": [],
   "source": [
    "env.reset()\n",
    "# This is for one policy policy_vfa_qlearning\n",
    "total_return = 0\n",
    "for n in range(num_runs):\n",
    "    for ep in range(n_episodes):\n",
    "        action = np.argmax(policy_vfa_qlearning[env.current_state])\n",
    "        reward, next_state, done = env.step(action)\n",
    "        if done:\n",
    "            print(f'Completed in {ep} episodes')\n",
    "            break\n",
    "        total_return += reward  # return for one run, but they can be different so we need to average them over many independent runs\n",
    "    env.reset()\n",
    "        \n",
    "# average return of the policy \"policy_vfa_qlearning\"\n",
    "avarage_return_VFA_q=total_return/ num_runs"
   ]
  },
  {
   "cell_type": "code",
   "execution_count": 52,
   "id": "652ea2dc-f74b-4db0-9377-98e385308452",
   "metadata": {},
   "outputs": [
    {
     "data": {
      "text/plain": [
       "18.3"
      ]
     },
     "execution_count": 52,
     "metadata": {},
     "output_type": "execute_result"
    }
   ],
   "source": [
    "avarage_return_VFA_q"
   ]
  },
  {
   "cell_type": "markdown",
   "id": "cd0959d3",
   "metadata": {},
   "source": [
    "## DQN"
   ]
  },
  {
   "cell_type": "code",
   "execution_count": 53,
   "id": "0540b72c",
   "metadata": {},
   "outputs": [],
   "source": [
    "def test_DQN(env, checkpoint_path):\n",
    "    \"\"\"\n",
    "    Test our DQN algorithm, loading it from the checkpoint file and output cumulative return.\n",
    "    \n",
    "    Args:\n",
    "        env: a MDP enviornment\n",
    "        checkpoint_path: take the file  \n",
    "    \"\"\" \n",
    "    \n",
    "    # Initialize the state, the action size and the state size\n",
    "    state= env.reset()\n",
    "    state_size = 1\n",
    "    action_size = len(env.get_possible_actions(state))\n",
    "    \n",
    "    # initialize the model\n",
    "    loaded_model = DQN(state_size, action_size)\n",
    " \n",
    "    # Load the state dictionary into the model\n",
    "    loaded_model.load_state_dict(torch.load(checkpoint_path))\n",
    "\n",
    "    loaded_model.to(device) \n",
    "\n",
    "    # initilize the agent \n",
    "    agent = DQNAgent(env, state_size, action_size)\n",
    "    agent.model = loaded_model\n",
    "    agent.target_model = loaded_model\n",
    "    agent.epsilon = 0.1\n",
    "    \n",
    "    # initialize the variables needed\n",
    "    done = False\n",
    "    total_reward = 0\n",
    "    \n",
    "    # Loop until the episode ends ( we can't do it, it's too computational expensive, so we put a threshold)\n",
    "    for _ in range(100000):# not done:\n",
    "\n",
    "        # Reshape the state for the DQN\n",
    "        state = np.reshape(state, [1, state_size])\n",
    "\n",
    "        # Select an action following the greedy policy\n",
    "        action = agent.act(state, training=False)\n",
    "\n",
    "        # Perform the action and store the next_state the reward and if the state is terminal\n",
    "        reward, next_state, done = env.step(action)\n",
    "\n",
    "        # Move to the next state\n",
    "        state = next_state\n",
    "\n",
    "        # check if the state is terminal\n",
    "        if done:\n",
    "            break\n",
    "        \n",
    "        # update reward\n",
    "        total_reward += reward\n",
    "    \n",
    "    return (f'Total reward: {total_reward}')"
   ]
  },
  {
   "cell_type": "code",
   "execution_count": 54,
   "id": "965d9c47",
   "metadata": {},
   "outputs": [],
   "source": [
    "checkpoint_path = \"trained_agents/model_checkpoint_episode_300.pth\""
   ]
  },
  {
   "cell_type": "code",
   "execution_count": 55,
   "id": "2077f080",
   "metadata": {},
   "outputs": [
    {
     "data": {
      "text/plain": [
       "'Total reward: 40'"
      ]
     },
     "execution_count": 55,
     "metadata": {},
     "output_type": "execute_result"
    }
   ],
   "source": [
    "test_DQN(env, checkpoint_path)"
   ]
  },
  {
   "cell_type": "code",
   "execution_count": 57,
   "id": "eae2115f",
   "metadata": {},
   "outputs": [],
   "source": [
    "# Initialize the state, the action size and the state size\n",
    "state= env.reset()\n",
    "state_size = 1\n",
    "action_size = len(env.get_possible_actions(state))\n",
    "\n",
    "# initialize the model\n",
    "loaded_model = DQN(state_size, action_size)\n",
    "\n",
    "# Load the state dictionary into the model\n",
    "loaded_model.load_state_dict(torch.load(checkpoint_path))\n",
    "\n",
    "loaded_model.to(device) \n",
    "\n",
    "# initilize the agent \n",
    "agent = DQNAgent(env,state_size, action_size)\n",
    "agent.model = loaded_model\n",
    "agent.target_model = loaded_model\n",
    "agent.epsilon = 0.1\n",
    "\n",
    "# initialize the variables needed\n",
    "done = False\n",
    "total_reward = 0\n",
    "\n",
    "# Loop until the episode ends ( we can't do it, it's too computational expensive, so we put a threshold)\n",
    "for n in range(num_runs):\n",
    "    for ep in range(n_episodes):\n",
    "        # Reshape the state for the DQN\n",
    "        state = np.reshape(state, [1, state_size])\n",
    "\n",
    "        # Select an action following the greedy policy\n",
    "        action = agent.act(state, training=False)\n",
    "\n",
    "        # Perform the action and store the next_state the reward and if the state is terminal\n",
    "        reward, next_state, done = env.step(action)\n",
    "\n",
    "        # Move to the next state\n",
    "        state = next_state\n",
    "\n",
    "        # check if the state is terminal\n",
    "        if done:\n",
    "            break\n",
    "        \n",
    "        # update reward\n",
    "        total_reward += reward\n",
    "        \n",
    "        # Move to the next state\n",
    "    env.reset()\n",
    "        \n",
    "        # check if the state is terminal\n",
    "      \n",
    "\n",
    "avarage_return_dqn=total_reward/ num_runs"
   ]
  },
  {
   "cell_type": "code",
   "execution_count": 58,
   "id": "53d87f0e-a9b1-4c5c-8a3a-ea964895b647",
   "metadata": {},
   "outputs": [
    {
     "data": {
      "text/plain": [
       "33.25333333333333"
      ]
     },
     "execution_count": 58,
     "metadata": {},
     "output_type": "execute_result"
    }
   ],
   "source": [
    "avarage_return_dqn"
   ]
  },
  {
   "cell_type": "markdown",
   "id": "374946f5-a6bc-492f-98e1-9e720d8c75d4",
   "metadata": {},
   "source": [
    "## Bar plot"
   ]
  },
  {
   "cell_type": "code",
   "execution_count": 59,
   "id": "55c990e1-a50e-4c17-a0fc-31bc55d0f83e",
   "metadata": {
    "scrolled": true
   },
   "outputs": [
    {
     "data": {
      "text/plain": [
       "Text(0.5, 1.0, 'Avarage reward for 2 rooms')"
      ]
     },
     "execution_count": 59,
     "metadata": {},
     "output_type": "execute_result"
    },
    {
     "data": {
      "image/png": "[encoded data removed]",
      "text/plain": [
       "<Figure size 640x480 with 1 Axes>"
      ]
     },
     "metadata": {},
     "output_type": "display_data"
    }
   ],
   "source": [
    "plt.bar(['DP','MC','TD_SARSA','TD_Q','VFA_SARSA','VFA_Q','DQN'],[avarage_return_dp, avarage_return_mc,avarage_return_sarsa, avarage_return_q, avarage_return_VFA_sarsa, avarage_return_VFA_q,avarage_return_dqn], width = 0.5)\n",
    "plt.title('Avarage reward for 2 rooms')"
   ]
  },
  {
   "cell_type": "code",
   "execution_count": null,
   "id": "3e841b13-2529-4839-bf48-09f97bbb7917",
   "metadata": {},
   "outputs": [],
   "source": []
  },
  {
   "cell_type": "markdown",
   "id": "33592f3c-386a-4d7d-8ebb-e60e71596074",
   "metadata": {},
   "source": [
    "# 3 rooms"
   ]
  },
  {
   "cell_type": "code",
   "execution_count": 60,
   "id": "5906f814-4d83-487a-ac28-65c60586f5ed",
   "metadata": {},
   "outputs": [
    {
     "name": "stdout",
     "output_type": "stream",
     "text": [
      "Number of states: 270\n",
      "Terminal states:\n",
      "('Room 1', 5, 2, 4)\n",
      "('Room 2', 5, 2, 4)\n",
      "('Room 3', 5, 2, 4)\n",
      "==================\n",
      "Possbile actions:\n",
      "search\n",
      "stay\n",
      "go_to_room_1\n",
      "go_to_room_2\n",
      "go_to_room_3\n"
     ]
    }
   ],
   "source": [
    " # Maximum number of eggs for each room\n",
    "n_eggs_list =     [5,    2 ,   4 #, 7, 6,\n",
    "                  ]\n",
    "# Number of rooms\n",
    "n_rooms = len(n_eggs_list)  \n",
    "\n",
    "# Initial probabilities to find an egg for each room\n",
    "initial_p_list =  [0.8,  0.3 , 0.5#, 0.9, 0.6\n",
    "                  ]\n",
    "\n",
    "# Decay probability rates for each room\n",
    "decay_rate_list = [0.8,  0.9  , 0.7#, 0.6, 0.4\n",
    "                  ]\n",
    "\n",
    "GAMMA = 0.9\n",
    "\n",
    "ALPHA = 0.1\n",
    "\n",
    "# create the environment\n",
    "transition_probabilities, states, actions, total_eggs = create_environment(n_rooms, n_eggs_list, initial_p_list, decay_rate_list)\n",
    "\n",
    "# initialize the environment\n",
    "env = EggsHuntEnv(states, actions, transition_probabilities, total_eggs)\n",
    "\n",
    "env.reset()\n",
    "print(f'Number of states: {env.num_states}')\n",
    "\n",
    "print('Terminal states:')\n",
    "for state in env.states:\n",
    "    if env.is_terminal_state(state):\n",
    "        print(env.get_state_name(state))\n",
    "\n",
    "print('==================')\n",
    "print('Possbile actions:')\n",
    "for action in env.actions:\n",
    "    print(env.get_action_name(action))"
   ]
  },
  {
   "cell_type": "code",
   "execution_count": 61,
   "id": "bb6706a6-82c1-4806-9aa2-38b3ea2feae7",
   "metadata": {},
   "outputs": [],
   "source": [
    "random_policy = create_random_policy(env)"
   ]
  },
  {
   "cell_type": "code",
   "execution_count": 62,
   "id": "7ce8d1c3-45e5-401b-80ce-bf7616c20cec",
   "metadata": {},
   "outputs": [],
   "source": [
    "num_runs = 500  # number of runs\n",
    "n_episodes = 100 # number of episodes in each run"
   ]
  },
  {
   "cell_type": "markdown",
   "id": "63633228-3f7b-4da7-a0b9-963a8e6aecd8",
   "metadata": {},
   "source": [
    "## DP"
   ]
  },
  {
   "cell_type": "code",
   "execution_count": 63,
   "id": "54eeb01d-caf1-4af7-a2a8-20d0e152087a",
   "metadata": {},
   "outputs": [
    {
     "data": {
      "text/plain": [
       "0"
      ]
     },
     "execution_count": 63,
     "metadata": {},
     "output_type": "execute_result"
    }
   ],
   "source": [
    "env.reset()"
   ]
  },
  {
   "cell_type": "code",
   "execution_count": 64,
   "id": "84af9015-4b63-4a56-9746-a35e6c4bb493",
   "metadata": {
    "scrolled": true
   },
   "outputs": [
    {
     "data": {
      "text/plain": [
       "array([33.0978785 , 31.34233079, 30.56464937, 30.26614804, 30.26614804,\n",
       "       32.68102677, 30.83196224, 29.58808505, 29.17832692, 29.17832692,\n",
       "       32.40015233, 30.48840052, 29.00752475, 28.36449966, 28.36449966,\n",
       "       27.1400741 , 25.14038936, 24.25448445, 23.91426181, 23.91426181,\n",
       "       26.66477435, 24.55878236, 23.14209916, 22.67532329, 22.67532329,\n",
       "       26.34472036, 24.16740562, 22.48081798, 21.7484581 , 21.7484581 ,\n",
       "       21.99156812, 19.64441311, 18.60450925, 18.20496478, 18.20496478,\n",
       "       21.43321583, 18.9614944 , 17.29882104, 16.7509057 , 16.7509057 ,\n",
       "       21.05744094, 18.50208149, 16.52265124, 15.66312107, 15.66312107,\n",
       "       17.77167615, 14.91488485, 13.64914478, 13.16266425, 13.16266425,\n",
       "       17.09167697, 14.08346743, 12.05994358, 11.39303333, 11.39303333,\n",
       "       16.63422431, 13.52428365, 11.11526204, 10.06918039, 10.06918039,\n",
       "       14.6850948 , 11.05313461,  9.44392633,  8.82529514,  8.82529514,\n",
       "       13.82025891,  9.99595325,  7.4234994 ,  6.57560772,  6.57560772,\n",
       "       13.23862274,  9.28503214,  6.22250074,  4.8926343 ,  4.8926343 ,\n",
       "       13.11326301,  8.24962192,  6.09469692,  5.26617149,  5.26617149,\n",
       "       11.95493123,  6.83382367,  3.38908972,  2.25364415,  2.25364415,\n",
       "       11.1760219 ,  5.88181563,  1.78081473,  0.        ,  0.        ,\n",
       "       28.78809065, 27.20809772, 26.50818443, 26.23953323, 26.23953323,\n",
       "       28.41292409, 26.74876601, 25.62927654, 25.26049423, 25.26049423,\n",
       "       28.1601371 , 26.43956046, 25.10677228, 24.5280497 , 24.5280497 ,\n",
       "       23.42606669, 21.62635043, 20.829036  , 20.52283563, 20.52283563,\n",
       "       22.99829691, 21.10290413, 19.82788925, 19.40779096, 19.40779096,\n",
       "       22.71024832, 20.75066506, 19.23273618, 18.57361229, 18.57361229,\n",
       "       18.79241131, 16.6799718 , 15.74405832, 15.3844683 , 15.3844683 ,\n",
       "       18.28989425, 16.06534496, 14.56893894, 14.07581513, 14.07581513,\n",
       "       17.95169685, 15.65187334, 13.87038611, 13.09680896, 13.09680896,\n",
       "       15.75523231, 12.84375578, 11.61697677, 11.13042828, 11.13042828,\n",
       "       14.9563576 , 11.67512069,  9.99384237,  9.32690615,  9.32690615,\n",
       "       14.4814156 , 11.17185528,  9.00373584,  8.06226235,  8.06226235,\n",
       "       13.79546381, 10.77449468,  9.3405531 ,  8.72188469,  8.72188469,\n",
       "       12.9793962 ,  8.83937831,  6.87419958,  6.02629397,  6.02629397,\n",
       "       12.39704844,  7.37418427,  4.60025066,  3.40337087,  3.40337087,\n",
       "       13.11326301, 10.0030919 ,  7.88301476,  6.96241328,  6.96241328,\n",
       "       11.95493123,  7.78212943,  4.87677298,  3.61516023,  3.61516023,\n",
       "       11.1760219 ,  5.88181563,  1.78081473,  0.        ,  0.        ,\n",
       "       29.53292854, 27.20809772, 26.50818443, 26.23953323, 26.23953323,\n",
       "       29.15776198, 26.74876601, 25.62927654, 25.26049423, 25.26049423,\n",
       "       28.90497498, 26.43956046, 25.10677228, 24.5280497 , 24.5280497 ,\n",
       "       24.96627291, 21.62635043, 20.829036  , 20.52283563, 20.52283563,\n",
       "       24.53850314, 21.10290413, 19.82788925, 19.40779096, 19.40779096,\n",
       "       24.25045455, 20.75066506, 19.23273618, 18.57361229, 18.57361229,\n",
       "       21.38653862, 17.25098064, 15.74405832, 15.3844683 , 15.3844683 ,\n",
       "       20.65739699, 16.35934892, 14.56893894, 14.07581513, 14.07581513,\n",
       "       20.2238965 , 15.82928071, 13.87038611, 13.09680896, 13.09680896,\n",
       "       18.61722939, 13.86600104, 11.2842303 , 10.84639783, 10.84639783,\n",
       "       17.72940603, 12.78057892,  9.85394922,  9.25373   ,  9.25373   ,\n",
       "       17.20160112, 12.13533568,  9.00373584,  8.06226235,  8.06226235,\n",
       "       16.39753784, 11.15276737,  7.70938419,  6.94276562,  6.94276562,\n",
       "       15.53270194, 10.09558601,  6.31645545,  4.91804694,  4.91804694,\n",
       "       14.88561635,  9.30465279,  5.27439165,  3.40337087,  3.40337087,\n",
       "       15.68144246, 10.27737949,  6.55596099,  5.26617196,  5.26617196,\n",
       "       14.39437745,  8.70425358,  4.48339279,  2.25364421,  2.25364421,\n",
       "       13.52891876,  7.64646531,  3.08979583,  0.22803088,  0.        ])"
      ]
     },
     "execution_count": 64,
     "metadata": {},
     "output_type": "execute_result"
    }
   ],
   "source": [
    "policy_dp, V, Q_dp = policy_iteration(env, gamma=GAMMA, threshold=0.001, verbose=False)\n",
    "V"
   ]
  },
  {
   "cell_type": "code",
   "execution_count": 65,
   "id": "055792e2-b515-45c9-aded-420626cbc9f7",
   "metadata": {},
   "outputs": [],
   "source": [
    "env.reset()\n",
    "\n",
    "# This is for one policy\n",
    "total_return = 0 \n",
    "for n in range(num_runs):\n",
    "    for ep in range(n_episodes):\n",
    "        action = np.argmax(policy_dp[env.current_state])\n",
    "        reward, next_state, done = env.step(action)\n",
    "        if done:\n",
    "            #print(f'Completed in {ep} episodes')\n",
    "            break\n",
    "        total_return += reward  # return for one run, but they can be different so we need to average them over many independent runs\n",
    "    env.reset()\n",
    "        \n",
    "# average return of the policy \"policy_dp\"\n",
    "avarage_return_dp=total_return/ num_runs"
   ]
  },
  {
   "cell_type": "code",
   "execution_count": 66,
   "id": "ffbf082a-1941-4d8c-a2af-362ab0ca54c5",
   "metadata": {},
   "outputs": [
    {
     "data": {
      "text/plain": [
       "64.988"
      ]
     },
     "execution_count": 66,
     "metadata": {},
     "output_type": "execute_result"
    }
   ],
   "source": [
    "avarage_return_dp"
   ]
  },
  {
   "cell_type": "markdown",
   "id": "c7484ed2-4394-4e56-bb3c-387d13b5510c",
   "metadata": {},
   "source": [
    "## MC"
   ]
  },
  {
   "cell_type": "code",
   "execution_count": 67,
   "id": "e390eebe-8874-4d71-a2f7-f70961be8da7",
   "metadata": {},
   "outputs": [
    {
     "data": {
      "text/plain": [
       "0"
      ]
     },
     "execution_count": 67,
     "metadata": {},
     "output_type": "execute_result"
    }
   ],
   "source": [
    "env.reset()"
   ]
  },
  {
   "cell_type": "code",
   "execution_count": 69,
   "id": "198d1cca-eaa7-4633-9272-ec5b6ec0914f",
   "metadata": {},
   "outputs": [],
   "source": [
    "optimal_policy_mc, Q_mc= MC_onpolicy(env, policy=None, eps=0.01, num_timesteps=500, num_iterations=10000)"
   ]
  },
  {
   "cell_type": "code",
   "execution_count": 70,
   "id": "f16a89ae-42b7-48ee-87db-eb9b2fd76c91",
   "metadata": {},
   "outputs": [],
   "source": [
    "env.reset()\n",
    "\n",
    "# This is for one policy\n",
    "total_return = 0 \n",
    "for n in range(num_runs):\n",
    "    for ep in range(n_episodes):\n",
    "        action = np.argmax(optimal_policy_mc[env.current_state])\n",
    "        reward, next_state, done = env.step(action)\n",
    "        if done:\n",
    "            #print(f'Completed in {ep} episodes')\n",
    "            break\n",
    "        total_return += reward  # return for one run, but they can be different so we need to average them over many independent runs\n",
    "    env.reset()\n",
    "        \n",
    "# average return of the policy \"optimal_policy_mc\"\n",
    "avarage_return_mc=total_return/ num_runs"
   ]
  },
  {
   "cell_type": "code",
   "execution_count": 71,
   "id": "40c96e51-6348-421f-b984-3eeb88cf0117",
   "metadata": {},
   "outputs": [
    {
     "data": {
      "text/plain": [
       "48.612"
      ]
     },
     "execution_count": 71,
     "metadata": {},
     "output_type": "execute_result"
    }
   ],
   "source": [
    "avarage_return_mc"
   ]
  },
  {
   "cell_type": "markdown",
   "id": "8e2e4b9b-ed27-40c0-9803-f7297812347a",
   "metadata": {},
   "source": [
    "## TD"
   ]
  },
  {
   "cell_type": "code",
   "execution_count": 72,
   "id": "38148fc4-203b-4e85-a970-54db331b7285",
   "metadata": {
    "scrolled": true
   },
   "outputs": [],
   "source": [
    "Q = temploral_difference_policy_evaluation(env, policy=random_policy, n_steps=10000, gamma=GAMMA, alpha=ALPHA)"
   ]
  },
  {
   "cell_type": "markdown",
   "id": "fc2df321-336b-4ec3-ad79-beb41ddca8a1",
   "metadata": {},
   "source": [
    "### Sarsa"
   ]
  },
  {
   "cell_type": "code",
   "execution_count": 73,
   "id": "829b1e09-f556-4110-8818-3ff8c22854c6",
   "metadata": {
    "scrolled": true
   },
   "outputs": [
    {
     "name": "stdout",
     "output_type": "stream",
     "text": [
      "Passed 0 steps.\n",
      "Passed 0 steps.\n",
      "Passed 0 steps.\n",
      "Passed 0 steps.\n",
      "Passed 0 steps.\n",
      "Passed 0 steps.\n",
      "Passed 0 steps.\n",
      "Passed 0 steps.\n",
      "Passed 0 steps.\n",
      "Passed 0 steps.\n",
      "Passed 0 steps.\n",
      "Passed 0 steps.\n",
      "Passed 0 steps.\n",
      "Passed 0 steps.\n",
      "Passed 0 steps.\n",
      "Passed 0 steps.\n",
      "Passed 0 steps.\n",
      "Passed 0 steps.\n",
      "Passed 0 steps.\n",
      "Passed 0 steps.\n",
      "Passed 0 steps.\n",
      "Passed 0 steps.\n",
      "Passed 0 steps.\n",
      "Passed 0 steps.\n",
      "Passed 0 steps.\n",
      "Passed 0 steps.\n",
      "Passed 0 steps.\n",
      "Passed 0 steps.\n",
      "Passed 0 steps.\n",
      "Passed 0 steps.\n",
      "Passed 0 steps.\n",
      "Passed 0 steps.\n",
      "Passed 0 steps.\n",
      "Passed 0 steps.\n",
      "Passed 0 steps.\n",
      "Passed 0 steps.\n",
      "Passed 0 steps.\n",
      "Passed 0 steps.\n",
      "Passed 0 steps.\n",
      "Passed 0 steps.\n",
      "Passed 0 steps.\n",
      "Passed 0 steps.\n",
      "Passed 0 steps.\n",
      "Passed 0 steps.\n",
      "Passed 0 steps.\n",
      "Passed 0 steps.\n",
      "Passed 0 steps.\n",
      "Passed 0 steps.\n",
      "Passed 0 steps.\n",
      "Passed 0 steps.\n",
      "Passed 0 steps.\n",
      "Passed 0 steps.\n",
      "Passed 0 steps.\n",
      "Passed 0 steps.\n",
      "Passed 0 steps.\n",
      "Passed 0 steps.\n",
      "Passed 0 steps.\n",
      "Passed 0 steps.\n",
      "Passed 0 steps.\n",
      "Passed 0 steps.\n",
      "Passed 0 steps.\n",
      "Passed 0 steps.\n",
      "Passed 0 steps.\n",
      "Passed 0 steps.\n",
      "Passed 0 steps.\n",
      "Passed 0 steps.\n",
      "Passed 0 steps.\n",
      "Passed 0 steps.\n",
      "Passed 0 steps.\n",
      "Passed 0 steps.\n",
      "Passed 0 steps.\n",
      "Passed 0 steps.\n",
      "Passed 0 steps.\n",
      "Passed 0 steps.\n",
      "Passed 0 steps.\n",
      "Passed 0 steps.\n",
      "Passed 0 steps.\n",
      "Passed 0 steps.\n",
      "Passed 0 steps.\n",
      "Passed 0 steps.\n",
      "Passed 0 steps.\n",
      "Passed 0 steps.\n",
      "Passed 0 steps.\n",
      "Passed 0 steps.\n",
      "Passed 0 steps.\n",
      "Passed 0 steps.\n",
      "Passed 0 steps.\n",
      "Passed 0 steps.\n",
      "Passed 0 steps.\n",
      "Passed 0 steps.\n",
      "Passed 0 steps.\n",
      "Passed 0 steps.\n",
      "Passed 0 steps.\n",
      "Passed 0 steps.\n",
      "Passed 0 steps.\n",
      "Passed 0 steps.\n",
      "Passed 0 steps.\n",
      "Passed 0 steps.\n",
      "Passed 0 steps.\n",
      "Passed 0 steps.\n",
      "Passed 0 steps.\n",
      "Passed 0 steps.\n",
      "Passed 0 steps.\n",
      "Passed 0 steps.\n",
      "Passed 0 steps.\n",
      "Passed 0 steps.\n",
      "Passed 0 steps.\n",
      "Passed 0 steps.\n",
      "Passed 0 steps.\n",
      "Passed 0 steps.\n",
      "Passed 0 steps.\n",
      "Passed 0 steps.\n",
      "Passed 0 steps.\n",
      "Passed 0 steps.\n",
      "Passed 0 steps.\n",
      "Passed 0 steps.\n",
      "Passed 0 steps.\n",
      "Passed 0 steps.\n",
      "Passed 0 steps.\n",
      "Passed 0 steps.\n",
      "Passed 0 steps.\n",
      "Passed 0 steps.\n",
      "Passed 0 steps.\n",
      "Passed 0 steps.\n",
      "Passed 0 steps.\n",
      "Passed 0 steps.\n",
      "Passed 0 steps.\n",
      "Passed 0 steps.\n",
      "Passed 0 steps.\n",
      "Passed 0 steps.\n",
      "Passed 0 steps.\n",
      "Passed 0 steps.\n",
      "Passed 0 steps.\n",
      "Passed 0 steps.\n",
      "Passed 0 steps.\n",
      "Passed 0 steps.\n",
      "Passed 0 steps.\n",
      "Passed 0 steps.\n",
      "Passed 0 steps.\n",
      "Passed 0 steps.\n",
      "Passed 0 steps.\n",
      "Passed 0 steps.\n",
      "Passed 0 steps.\n",
      "Passed 0 steps.\n",
      "Passed 0 steps.\n",
      "Passed 0 steps.\n",
      "Passed 0 steps.\n",
      "Passed 0 steps.\n",
      "Passed 0 steps.\n",
      "Passed 0 steps.\n",
      "Passed 0 steps.\n",
      "Passed 0 steps.\n",
      "Passed 0 steps.\n",
      "Passed 0 steps.\n",
      "Passed 0 steps.\n",
      "Passed 0 steps.\n",
      "Passed 0 steps.\n",
      "Passed 0 steps.\n",
      "Passed 0 steps.\n",
      "Passed 0 steps.\n",
      "Passed 0 steps.\n",
      "Passed 0 steps.\n",
      "Passed 0 steps.\n",
      "Passed 0 steps.\n",
      "Passed 0 steps.\n",
      "Passed 0 steps.\n",
      "Passed 0 steps.\n",
      "Passed 0 steps.\n",
      "Passed 0 steps.\n",
      "Passed 0 steps.\n",
      "Passed 0 steps.\n",
      "Passed 0 steps.\n",
      "Passed 0 steps.\n",
      "Passed 0 steps.\n",
      "Passed 0 steps.\n",
      "Passed 0 steps.\n",
      "Passed 0 steps.\n",
      "Passed 0 steps.\n",
      "Passed 0 steps.\n",
      "Passed 0 steps.\n",
      "Passed 0 steps.\n",
      "Passed 0 steps.\n",
      "Passed 0 steps.\n",
      "Passed 0 steps.\n",
      "Passed 0 steps.\n",
      "Passed 0 steps.\n",
      "Passed 0 steps.\n",
      "Passed 0 steps.\n",
      "Passed 0 steps.\n",
      "Passed 0 steps.\n",
      "Passed 0 steps.\n",
      "Passed 0 steps.\n",
      "Passed 0 steps.\n",
      "Passed 0 steps.\n",
      "Passed 0 steps.\n",
      "Passed 0 steps.\n",
      "Passed 0 steps.\n",
      "Passed 0 steps.\n",
      "Passed 0 steps.\n",
      "Passed 0 steps.\n",
      "Passed 0 steps.\n",
      "Passed 0 steps.\n",
      "Passed 0 steps.\n",
      "Passed 0 steps.\n",
      "Passed 0 steps.\n",
      "Passed 0 steps.\n",
      "Passed 0 steps.\n",
      "Passed 0 steps.\n",
      "Passed 0 steps.\n",
      "Passed 0 steps.\n",
      "Passed 0 steps.\n",
      "Passed 0 steps.\n",
      "Passed 0 steps.\n",
      "Passed 0 steps.\n",
      "Passed 0 steps.\n",
      "Passed 0 steps.\n",
      "Passed 0 steps.\n",
      "Passed 0 steps.\n",
      "Passed 0 steps.\n",
      "Passed 0 steps.\n",
      "Passed 0 steps.\n",
      "Passed 0 steps.\n",
      "Passed 0 steps.\n",
      "Passed 0 steps.\n",
      "Passed 0 steps.\n",
      "Passed 0 steps.\n",
      "Passed 0 steps.\n",
      "Passed 0 steps.\n",
      "Passed 0 steps.\n",
      "Passed 0 steps.\n",
      "Passed 0 steps.\n",
      "Passed 0 steps.\n",
      "Passed 0 steps.\n",
      "Passed 0 steps.\n",
      "Passed 0 steps.\n",
      "Passed 0 steps.\n",
      "Passed 0 steps.\n",
      "Passed 0 steps.\n",
      "Passed 0 steps.\n",
      "Passed 0 steps.\n",
      "Passed 0 steps.\n",
      "Passed 0 steps.\n",
      "Passed 0 steps.\n",
      "Passed 0 steps.\n",
      "Passed 0 steps.\n",
      "Passed 0 steps.\n",
      "Passed 0 steps.\n",
      "Passed 0 steps.\n",
      "Passed 0 steps.\n",
      "Passed 0 steps.\n",
      "Passed 0 steps.\n",
      "Passed 0 steps.\n",
      "Passed 0 steps.\n",
      "Passed 0 steps.\n",
      "Passed 0 steps.\n",
      "Passed 0 steps.\n",
      "Passed 0 steps.\n",
      "Passed 0 steps.\n",
      "Passed 0 steps.\n",
      "Passed 0 steps.\n",
      "Passed 0 steps.\n",
      "Passed 0 steps.\n",
      "Passed 0 steps.\n",
      "Passed 0 steps.\n",
      "Passed 0 steps.\n",
      "Passed 0 steps.\n",
      "Passed 0 steps.\n",
      "Passed 0 steps.\n",
      "Passed 0 steps.\n",
      "Passed 0 steps.\n",
      "Passed 0 steps.\n",
      "Passed 0 steps.\n",
      "Passed 0 steps.\n",
      "Passed 0 steps.\n",
      "Passed 0 steps.\n",
      "Passed 0 steps.\n",
      "Passed 0 steps.\n",
      "Passed 0 steps.\n",
      "Passed 0 steps.\n",
      "Passed 0 steps.\n",
      "Passed 0 steps.\n",
      "Passed 0 steps.\n",
      "Passed 0 steps.\n",
      "Passed 0 steps.\n",
      "Passed 0 steps.\n",
      "Passed 0 steps.\n",
      "Passed 0 steps.\n",
      "Passed 0 steps.\n",
      "Passed 0 steps.\n",
      "Passed 0 steps.\n",
      "Passed 0 steps.\n",
      "Passed 0 steps.\n",
      "Passed 0 steps.\n",
      "Passed 0 steps.\n",
      "Passed 0 steps.\n",
      "Passed 0 steps.\n",
      "Passed 0 steps.\n",
      "Passed 0 steps.\n",
      "Passed 0 steps.\n",
      "Passed 0 steps.\n"
     ]
    }
   ],
   "source": [
    "num_runs = 300\n",
    "n_steps =  10000\n",
    "Q_list = []\n",
    "for n in range(num_runs):\n",
    "    optimal_policy, Q = sarsa(env, n_steps=n_steps, gamma=GAMMA, alpha=ALPHA, begin_epsilon=1, end_epsilon=0.001, verbose=True)\n",
    "    Q_list.append(Q)\n",
    "Q_td_sarsa = np.array(Q_list).mean(axis=0)"
   ]
  },
  {
   "cell_type": "code",
   "execution_count": 74,
   "id": "eebe303f-d718-400e-b0c9-8b248a769ee3",
   "metadata": {},
   "outputs": [],
   "source": [
    "policy_td_sarsa = compute_optimal_policy(env, Q_td_sarsa)"
   ]
  },
  {
   "cell_type": "code",
   "execution_count": 75,
   "id": "faf56200-5e8c-4b1a-bb08-d8cafa919a74",
   "metadata": {},
   "outputs": [],
   "source": [
    "env.reset()\n",
    "\n",
    "# This is for one policy\n",
    "total_return = 0 \n",
    "for n in range(num_runs):\n",
    "    for ep in range(n_episodes):\n",
    "        action = np.argmax(policy_td_sarsa[env.current_state])\n",
    "        reward, next_state, done = env.step(action)\n",
    "        if done:\n",
    "            #print(f'Completed in {ep} episodes')\n",
    "            break\n",
    "        total_return += reward  # return for one run, but they can be different so we need to average them over many independent runs\n",
    "    env.reset()\n",
    "        \n",
    "# average return of the policy \"policy_td_sarsa\"\n",
    "avarage_return_sarsa=total_return/ num_runs"
   ]
  },
  {
   "cell_type": "code",
   "execution_count": 76,
   "id": "937fbb7e-999e-4e08-87cf-7412125b6d95",
   "metadata": {},
   "outputs": [
    {
     "data": {
      "text/plain": [
       "64.46666666666667"
      ]
     },
     "execution_count": 76,
     "metadata": {},
     "output_type": "execute_result"
    }
   ],
   "source": [
    "avarage_return_sarsa"
   ]
  },
  {
   "cell_type": "markdown",
   "id": "15819f3f-13f5-4ac4-b451-3c340562299f",
   "metadata": {},
   "source": [
    "### Q-learning"
   ]
  },
  {
   "cell_type": "code",
   "execution_count": 77,
   "id": "f3a79999-1b3d-4651-bf0a-6c0fb37d9d15",
   "metadata": {},
   "outputs": [
    {
     "name": "stdout",
     "output_type": "stream",
     "text": [
      "Passed 0 steps.\n"
     ]
    }
   ],
   "source": [
    "n_steps = 100000\n",
    "policy_td_q_learning, Q = q_learning(env, n_steps=n_steps, gamma=GAMMA, alpha=ALPHA, begin_epsilon=1, end_epsilon=0.01, verbose=True)"
   ]
  },
  {
   "cell_type": "code",
   "execution_count": 78,
   "id": "d393506c-3e0a-49d1-bfff-f628869ec2c2",
   "metadata": {},
   "outputs": [],
   "source": [
    "env.reset()\n",
    "# This is for one policy policy_td_q_learning\n",
    "total_return = 0\n",
    "for n in range(num_runs):\n",
    "    for ep in range(n_episodes):\n",
    "        action = np.argmax(policy_td_q_learning[env.current_state])\n",
    "        reward, next_state, done = env.step(action)\n",
    "        if done:\n",
    "            #print(f'Completed in {ep} episodes')\n",
    "            break\n",
    "        total_return += reward  # return for one run, but they can be different so we need to average them over many independent runs\n",
    "    env.reset()\n",
    "        \n",
    "# average return of the policy \"policy_td_q_learning\"\n",
    "avarage_return_q=total_return/ num_runs"
   ]
  },
  {
   "cell_type": "code",
   "execution_count": 79,
   "id": "6c8bab5f-5f7c-4e31-8fb5-91e3c7b02e99",
   "metadata": {},
   "outputs": [
    {
     "data": {
      "text/plain": [
       "62.02"
      ]
     },
     "execution_count": 79,
     "metadata": {},
     "output_type": "execute_result"
    }
   ],
   "source": [
    "avarage_return_q"
   ]
  },
  {
   "cell_type": "markdown",
   "id": "b6f344ce-c369-4f22-b5b5-ecb974f55e5d",
   "metadata": {},
   "source": [
    "# VFA"
   ]
  },
  {
   "cell_type": "code",
   "execution_count": 80,
   "id": "a1bf6143-4bff-458e-b3d4-42fede2628cc",
   "metadata": {},
   "outputs": [],
   "source": [
    "feature_extractor  = FeatureExtractor(env)"
   ]
  },
  {
   "cell_type": "code",
   "execution_count": 81,
   "id": "7709c959-dffe-41be-baeb-9674094e0617",
   "metadata": {},
   "outputs": [],
   "source": [
    "vfa = VFA(env, feature_extractor, alpha=ALPHA, gamma=GAMMA, epsilon=1)"
   ]
  },
  {
   "cell_type": "markdown",
   "id": "ee6cdc98-2bf0-4849-96b1-59f9d76f7d73",
   "metadata": {},
   "source": [
    "### Sarsa"
   ]
  },
  {
   "cell_type": "code",
   "execution_count": 82,
   "id": "11fa814e-60ce-4061-b120-8a636fe9cb0d",
   "metadata": {},
   "outputs": [],
   "source": [
    "Q_vfa_sarsa = vfa.semi_gradient_sarsa(n_steps=200000, begin_epsilon=1, end_epsilon=0.1)\n",
    "policy_vfa_sarsa = compute_optimal_policy(env, Q_vfa_sarsa)"
   ]
  },
  {
   "cell_type": "code",
   "execution_count": 83,
   "id": "229503e6-9d06-41c7-b399-da454d732466",
   "metadata": {},
   "outputs": [],
   "source": [
    "env.reset()\n",
    "# This is for one policy policy_vfa_sarsa\n",
    "total_return = 0\n",
    "for n in range(num_runs):\n",
    "    for ep in range(n_episodes):\n",
    "        action = np.argmax(policy_vfa_sarsa[env.current_state])\n",
    "        reward, next_state, done = env.step(action)\n",
    "        if done:\n",
    "            #print(f'Completed in {ep} episodes')\n",
    "            break\n",
    "        total_return += reward  # return for one run, but they can be different so we need to average them over many independent runs\n",
    "    env.reset()\n",
    "        \n",
    "# average return of the policy \"policy_vfa_sarsa\"\n",
    "avarage_return_VFA_sarsa=total_return/ num_runs"
   ]
  },
  {
   "cell_type": "code",
   "execution_count": 84,
   "id": "6c7c6109-bb94-454c-aee0-a6f935265d42",
   "metadata": {},
   "outputs": [
    {
     "data": {
      "text/plain": [
       "-151.0"
      ]
     },
     "execution_count": 84,
     "metadata": {},
     "output_type": "execute_result"
    }
   ],
   "source": [
    "avarage_return_VFA_sarsa"
   ]
  },
  {
   "cell_type": "markdown",
   "id": "78556794-8bf1-44db-9486-886adfb0ea25",
   "metadata": {},
   "source": [
    "### Q-learning"
   ]
  },
  {
   "cell_type": "code",
   "execution_count": 85,
   "id": "f4358f86-956a-4bd6-aa41-b5a4803f9a97",
   "metadata": {},
   "outputs": [],
   "source": [
    "Q_vfa_qlearning = vfa.semi_gradient_qlearning(n_steps=200000, begin_epsilon=1, end_epsilon=0.1)\n",
    "policy_vfa_qlearning = compute_optimal_policy(env, Q_vfa_qlearning)"
   ]
  },
  {
   "cell_type": "code",
   "execution_count": 86,
   "id": "4cfd10e7-d33c-4e78-96c7-df48da6f2674",
   "metadata": {},
   "outputs": [],
   "source": [
    "env.reset()\n",
    "# This is for one policy policy_vfa_qlearning\n",
    "total_return = 0\n",
    "for n in range(num_runs):\n",
    "    for ep in range(n_episodes):\n",
    "        action = np.argmax(policy_vfa_qlearning[env.current_state])\n",
    "        reward, next_state, done = env.step(action)\n",
    "        if done:\n",
    "            print(f'Completed in {ep} episodes')\n",
    "            break\n",
    "        total_return += reward  # return for one run, but they can be different so we need to average them over many independent runs\n",
    "    env.reset()\n",
    "        \n",
    "# average return of the policy \"policy_vfa_qlearning\"\n",
    "avarage_return_VFA_q=total_return/ num_runs"
   ]
  },
  {
   "cell_type": "code",
   "execution_count": 87,
   "id": "e5f96c15-e657-454e-a485-364dbf8f8817",
   "metadata": {},
   "outputs": [
    {
     "data": {
      "text/plain": [
       "50.12"
      ]
     },
     "execution_count": 87,
     "metadata": {},
     "output_type": "execute_result"
    }
   ],
   "source": [
    "avarage_return_VFA_q"
   ]
  },
  {
   "cell_type": "markdown",
   "id": "67dfddbc-eed3-48bc-8854-b2b6f9d882fb",
   "metadata": {},
   "source": [
    "## DQN"
   ]
  },
  {
   "cell_type": "code",
   "execution_count": 96,
   "id": "9eb2cb53",
   "metadata": {},
   "outputs": [],
   "source": [
    "batch_size = 32\n",
    "EPISODES = 100\n",
    "num_iterations= 100"
   ]
  },
  {
   "cell_type": "code",
   "execution_count": 97,
   "id": "166a7f99",
   "metadata": {},
   "outputs": [
    {
     "name": "stdout",
     "output_type": "stream",
     "text": [
      "Saved checkpoint for episode 50 at 'trained_agents/model_checkpoint_episode_50.pth'\n",
      "Saved checkpoint for episode 100 at 'trained_agents/model_checkpoint_episode_100.pth'\n"
     ]
    }
   ],
   "source": [
    "Q=DQN_train(env, batch_size, EPISODES, num_iterations)"
   ]
  },
  {
   "cell_type": "code",
   "execution_count": 98,
   "id": "be49c0b2-eb6b-49ca-b241-a6edc911f0be",
   "metadata": {},
   "outputs": [],
   "source": [
    "def test_DQN(env, checkpoint_path):\n",
    "    \"\"\"\n",
    "    Test our DQN algorithm, loading it from the checkpoint file and output cumulative return.\n",
    "    \n",
    "    Args:\n",
    "        env: a MDP enviornment\n",
    "        checkpoint_path: take the file  \n",
    "    \"\"\" \n",
    "    \n",
    "    # Initialize the state, the action size and the state size\n",
    "    state= env.reset()\n",
    "    state_size = 1\n",
    "    action_size = len(env.get_possible_actions(state))\n",
    "    \n",
    "    # initialize the model\n",
    "    loaded_model = DQN(state_size, action_size)\n",
    " \n",
    "    # Load the state dictionary into the model\n",
    "    loaded_model.load_state_dict(torch.load(checkpoint_path))\n",
    "\n",
    "    loaded_model.to(device) \n",
    "\n",
    "    # initilize the agent \n",
    "    agent = DQNAgent(env, state_size, action_size)\n",
    "    agent.model = loaded_model\n",
    "    agent.target_model = loaded_model\n",
    "    agent.epsilon = 0.1\n",
    "    \n",
    "    # initialize the variables needed\n",
    "    done = False\n",
    "    total_reward = 0\n",
    "    \n",
    "    # Loop until the episode ends ( we can't do it, it's too computational expensive, so we put a threshold)\n",
    "    for _ in range(10000):# not done:\n",
    "\n",
    "        # Reshape the state for the DQN\n",
    "        state = np.reshape(state, [1, state_size])\n",
    "\n",
    "        # Select an action following the greedy policy\n",
    "        action = agent.act(state, training=False)\n",
    "\n",
    "        # Perform the action and store the next_state the reward and if the state is terminal\n",
    "        reward, next_state, done = env.step(action)\n",
    "\n",
    "        # Move to the next state\n",
    "        state = next_state\n",
    "\n",
    "        # check if the state is terminal\n",
    "        if done:\n",
    "            break\n",
    "        \n",
    "        # update reward\n",
    "        total_reward += reward\n",
    "    \n",
    "    return (f'Total reward: {total_reward}')"
   ]
  },
  {
   "cell_type": "code",
   "execution_count": 99,
   "id": "cc887d32-66a5-4b21-a632-5368c014abbd",
   "metadata": {},
   "outputs": [],
   "source": [
    "checkpoint_path = \"trained_agents/model_checkpoint_episode_100.pth\""
   ]
  },
  {
   "cell_type": "code",
   "execution_count": 100,
   "id": "4121dafc-7daa-425b-89fb-8ec37118a1b8",
   "metadata": {},
   "outputs": [
    {
     "data": {
      "text/plain": [
       "'Total reward: 26'"
      ]
     },
     "execution_count": 100,
     "metadata": {},
     "output_type": "execute_result"
    }
   ],
   "source": [
    "test_DQN(env, checkpoint_path)"
   ]
  },
  {
   "cell_type": "code",
   "execution_count": 101,
   "id": "dc31d131-b45f-4dd7-8a67-ee8494dd1020",
   "metadata": {},
   "outputs": [],
   "source": [
    "# Initialize the state, the action size and the state size\n",
    "state= env.reset()\n",
    "state_size = 1\n",
    "action_size = len(env.get_possible_actions(state))\n",
    "\n",
    "# initialize the model\n",
    "loaded_model = DQN(state_size, action_size)\n",
    "\n",
    "# Load the state dictionary into the model\n",
    "loaded_model.load_state_dict(torch.load(checkpoint_path))\n",
    "\n",
    "loaded_model.to(device) \n",
    "\n",
    "# initilize the agent \n",
    "agent = DQNAgent(env, state_size, action_size)\n",
    "agent.model = loaded_model\n",
    "agent.target_model = loaded_model\n",
    "agent.epsilon = 0.1\n",
    "\n",
    "# initialize the variables needed\n",
    "done = False\n",
    "total_reward = 0\n",
    "\n",
    "# Loop until the episode ends ( we can't do it, it's too computational expensive, so we put a threshold)\n",
    "for n in range(num_runs):\n",
    "    for ep in range(n_episodes):\n",
    "        # Reshape the state for the DQN\n",
    "        state = np.reshape(state, [1, state_size])\n",
    "\n",
    "        # Select an action following the greedy policy\n",
    "        action = agent.act(state, training=False)\n",
    "\n",
    "        # Perform the action and store the next_state the reward and if the state is terminal\n",
    "        reward, next_state, done = env.step(action)\n",
    "\n",
    "        # Move to the next state\n",
    "        state = next_state\n",
    "\n",
    "        # check if the state is terminal\n",
    "        if done:\n",
    "            break\n",
    "        \n",
    "        # update reward\n",
    "        total_reward += reward\n",
    "        \n",
    "        # Move to the next state\n",
    "    env.reset()\n",
    "        \n",
    "        # check if the state is terminal\n",
    "      \n",
    "\n",
    "avarage_return_dqn=total_reward/ num_runs"
   ]
  },
  {
   "cell_type": "code",
   "execution_count": 102,
   "id": "a9a0f9ce-d59e-4f13-a8fa-4abdc0336531",
   "metadata": {},
   "outputs": [
    {
     "data": {
      "text/plain": [
       "33.26"
      ]
     },
     "execution_count": 102,
     "metadata": {},
     "output_type": "execute_result"
    }
   ],
   "source": [
    "avarage_return_dqn"
   ]
  },
  {
   "cell_type": "markdown",
   "id": "1fb33a30-6dcd-44ba-875f-cf04ada4e2d0",
   "metadata": {},
   "source": [
    "## Bar plot"
   ]
  },
  {
   "cell_type": "code",
   "execution_count": 103,
   "id": "e224bbd2-7cb6-4dbc-8c28-abdc82c32fd7",
   "metadata": {
    "scrolled": true
   },
   "outputs": [
    {
     "data": {
      "text/plain": [
       "Text(0.5, 1.0, 'Avarage reward for 3 rooms')"
      ]
     },
     "execution_count": 103,
     "metadata": {},
     "output_type": "execute_result"
    },
    {
     "data": {
      "image/png": "[encoded data removed]",
      "text/plain": [
       "<Figure size 640x480 with 1 Axes>"
      ]
     },
     "metadata": {},
     "output_type": "display_data"
    }
   ],
   "source": [
    "plt.bar(['DP','MC','TD_SARSA','TD_Q','VFA_SARSA','VFA_Q','DQN'],[avarage_return_dp, avarage_return_mc,avarage_return_sarsa, avarage_return_q, avarage_return_VFA_sarsa, avarage_return_VFA_q,avarage_return_dqn], width = 0.5)\n",
    "plt.title('Avarage reward for 3 rooms')"
   ]
  },
  {
   "cell_type": "markdown",
   "id": "736888fa-72cb-4c2a-bbda-8b18989f8aae",
   "metadata": {},
   "source": [
    "# 4 rooms"
   ]
  },
  {
   "cell_type": "code",
   "execution_count": 104,
   "id": "93a4ff2f-5885-47e0-8a2f-d0d0cb21298e",
   "metadata": {},
   "outputs": [
    {
     "name": "stdout",
     "output_type": "stream",
     "text": [
      "Number of states: 2880\n",
      "Terminal states:\n",
      "('Room 1', 5, 2, 4, 7)\n",
      "('Room 2', 5, 2, 4, 7)\n",
      "('Room 3', 5, 2, 4, 7)\n",
      "('Room 4', 5, 2, 4, 7)\n",
      "==================\n",
      "Possbile actions:\n",
      "search\n",
      "stay\n",
      "go_to_room_1\n",
      "go_to_room_2\n",
      "go_to_room_3\n",
      "go_to_room_4\n"
     ]
    }
   ],
   "source": [
    " # Maximum number of eggs for each room\n",
    "n_eggs_list =     [5,    2 ,   4 , 7#, 6,\n",
    "                  ]\n",
    "# Number of rooms\n",
    "n_rooms = len(n_eggs_list)  \n",
    "\n",
    "# Initial probabilities to find an egg for each room\n",
    "initial_p_list =  [0.8,  0.3 , 0.5, 0.9#, 0.6\n",
    "                  ]\n",
    "\n",
    "# Decay probability rates for each room\n",
    "decay_rate_list = [0.8,  0.9  ,0.7, 0.6 #, 0.4\n",
    "                  ]\n",
    "\n",
    "GAMMA = 0.9\n",
    "\n",
    "ALPHA = 0.1\n",
    "\n",
    "# create the environment\n",
    "transition_probabilities, states, actions, total_eggs = create_environment(n_rooms, n_eggs_list, initial_p_list, decay_rate_list)\n",
    "\n",
    "# initialize the environment\n",
    "env = EggsHuntEnv(states, actions, transition_probabilities, total_eggs)\n",
    "\n",
    "env.reset()\n",
    "print(f'Number of states: {env.num_states}')\n",
    "\n",
    "print('Terminal states:')\n",
    "for state in env.states:\n",
    "    if env.is_terminal_state(state):\n",
    "        print(env.get_state_name(state))\n",
    "\n",
    "print('==================')\n",
    "print('Possbile actions:')\n",
    "for action in env.actions:\n",
    "    print(env.get_action_name(action))"
   ]
  },
  {
   "cell_type": "code",
   "execution_count": 105,
   "id": "93cfdf63-b743-41df-b912-157e78d2beef",
   "metadata": {},
   "outputs": [],
   "source": [
    "random_policy = create_random_policy(env)"
   ]
  },
  {
   "cell_type": "code",
   "execution_count": 106,
   "id": "b589a6ca-6ca2-4164-bc12-d1ab080c0779",
   "metadata": {},
   "outputs": [],
   "source": [
    "num_runs = 500  # number of runs\n",
    "n_episodes = 100 # number of episodes in each run"
   ]
  },
  {
   "cell_type": "markdown",
   "id": "db958aac-fe1d-48a9-aa66-87781789af4a",
   "metadata": {},
   "source": [
    "## DP"
   ]
  },
  {
   "cell_type": "code",
   "execution_count": 107,
   "id": "f942e972-2ee7-413b-9579-75bff356f6ba",
   "metadata": {},
   "outputs": [
    {
     "data": {
      "text/plain": [
       "0"
      ]
     },
     "execution_count": 107,
     "metadata": {},
     "output_type": "execute_result"
    }
   ],
   "source": [
    "env.reset()"
   ]
  },
  {
   "cell_type": "code",
   "execution_count": 108,
   "id": "da8b90f1-b9d5-4a1c-9347-98f07115d436",
   "metadata": {
    "scrolled": true
   },
   "outputs": [
    {
     "data": {
      "text/plain": [
       "array([37.52637222, 34.42158312, 33.36682346, ...,  0.        ,\n",
       "        0.        ,  0.        ])"
      ]
     },
     "execution_count": 108,
     "metadata": {},
     "output_type": "execute_result"
    }
   ],
   "source": [
    "policy_dp, V, Q_dp = policy_iteration(env, gamma=GAMMA, threshold=0.001, verbose=False)\n",
    "V"
   ]
  },
  {
   "cell_type": "code",
   "execution_count": 109,
   "id": "46ce34ba-fedf-4770-b450-6b806d858d71",
   "metadata": {},
   "outputs": [],
   "source": [
    "env.reset()\n",
    "\n",
    "# This is for one policy\n",
    "total_return = 0 \n",
    "for n in range(num_runs):\n",
    "    for ep in range(n_episodes):\n",
    "        action = np.argmax(policy_dp[env.current_state])\n",
    "        reward, next_state, done = env.step(action)\n",
    "        if done:\n",
    "            #print(f'Completed in {ep} episodes')\n",
    "            break\n",
    "        total_return += reward  # return for one run, but they can be different so we need to average them over many independent runs\n",
    "    env.reset()\n",
    "        \n",
    "# average return of the policy \"policy_dp\"\n",
    "avarage_return_dp=total_return/ num_runs"
   ]
  },
  {
   "cell_type": "code",
   "execution_count": 110,
   "id": "5ef92f36-a3c2-44f3-b2ab-5a3484d4cf0a",
   "metadata": {},
   "outputs": [
    {
     "data": {
      "text/plain": [
       "87.42"
      ]
     },
     "execution_count": 110,
     "metadata": {},
     "output_type": "execute_result"
    }
   ],
   "source": [
    "avarage_return_dp"
   ]
  },
  {
   "cell_type": "markdown",
   "id": "c3d0b4d1-0833-4225-a1ab-5cb60dadb9b5",
   "metadata": {},
   "source": [
    "## MC"
   ]
  },
  {
   "cell_type": "code",
   "execution_count": 111,
   "id": "d5068898-64c7-4c39-9a4e-6f63d25d7454",
   "metadata": {},
   "outputs": [
    {
     "data": {
      "text/plain": [
       "0"
      ]
     },
     "execution_count": 111,
     "metadata": {},
     "output_type": "execute_result"
    }
   ],
   "source": [
    "env.reset()"
   ]
  },
  {
   "cell_type": "code",
   "execution_count": 113,
   "id": "a21139c5-d206-4589-8d63-37cb94e5f216",
   "metadata": {},
   "outputs": [],
   "source": [
    "optimal_policy_mc, Q_mc= MC_onpolicy(env, policy=None, eps=0.01, num_timesteps=500, num_iterations=10000)"
   ]
  },
  {
   "cell_type": "code",
   "execution_count": 114,
   "id": "eeceb4bc-6085-4ab0-a716-8d0c5f6d9b30",
   "metadata": {},
   "outputs": [],
   "source": [
    "env.reset()\n",
    "\n",
    "# This is for one policy\n",
    "total_return = 0 \n",
    "for n in range(num_runs):\n",
    "    for ep in range(n_episodes):\n",
    "        action = np.argmax(optimal_policy_mc[env.current_state])\n",
    "        reward, next_state, done = env.step(action)\n",
    "        if done:\n",
    "            #print(f'Completed in {ep} episodes')\n",
    "            break\n",
    "        total_return += reward  # return for one run, but they can be different so we need to average them over many independent runs\n",
    "    env.reset()\n",
    "        \n",
    "# average return of the policy \"optimal_policy_mc\"\n",
    "avarage_return_mc=total_return/ num_runs"
   ]
  },
  {
   "cell_type": "code",
   "execution_count": 115,
   "id": "e384983d-726a-4062-b748-e360a4b0ca59",
   "metadata": {},
   "outputs": [
    {
     "data": {
      "text/plain": [
       "28.136"
      ]
     },
     "execution_count": 115,
     "metadata": {},
     "output_type": "execute_result"
    }
   ],
   "source": [
    "avarage_return_mc"
   ]
  },
  {
   "cell_type": "markdown",
   "id": "b3b58808-ea9a-4ca9-aa3e-6d838adb6b00",
   "metadata": {},
   "source": [
    "## TD"
   ]
  },
  {
   "cell_type": "code",
   "execution_count": 116,
   "id": "845689ec-0d18-4842-b1db-5411cb144744",
   "metadata": {
    "scrolled": true
   },
   "outputs": [],
   "source": [
    "Q = temploral_difference_policy_evaluation(env, policy=random_policy, n_steps=10000, gamma=GAMMA, alpha=ALPHA)"
   ]
  },
  {
   "cell_type": "markdown",
   "id": "d51c7890-e8d7-481a-b616-d62146f5ebde",
   "metadata": {},
   "source": [
    "### Sarsa"
   ]
  },
  {
   "cell_type": "code",
   "execution_count": 117,
   "id": "4b8231da-a15d-48f4-bde8-c86fdf41d5e6",
   "metadata": {
    "scrolled": true
   },
   "outputs": [
    {
     "name": "stdout",
     "output_type": "stream",
     "text": [
      "Passed 0 steps.\n",
      "Passed 0 steps.\n",
      "Passed 0 steps.\n",
      "Passed 0 steps.\n",
      "Passed 0 steps.\n",
      "Passed 0 steps.\n",
      "Passed 0 steps.\n",
      "Passed 0 steps.\n",
      "Passed 0 steps.\n",
      "Passed 0 steps.\n",
      "Passed 0 steps.\n",
      "Passed 0 steps.\n",
      "Passed 0 steps.\n",
      "Passed 0 steps.\n",
      "Passed 0 steps.\n",
      "Passed 0 steps.\n",
      "Passed 0 steps.\n",
      "Passed 0 steps.\n",
      "Passed 0 steps.\n",
      "Passed 0 steps.\n",
      "Passed 0 steps.\n",
      "Passed 0 steps.\n",
      "Passed 0 steps.\n",
      "Passed 0 steps.\n",
      "Passed 0 steps.\n",
      "Passed 0 steps.\n",
      "Passed 0 steps.\n",
      "Passed 0 steps.\n",
      "Passed 0 steps.\n",
      "Passed 0 steps.\n",
      "Passed 0 steps.\n",
      "Passed 0 steps.\n",
      "Passed 0 steps.\n",
      "Passed 0 steps.\n",
      "Passed 0 steps.\n",
      "Passed 0 steps.\n",
      "Passed 0 steps.\n",
      "Passed 0 steps.\n",
      "Passed 0 steps.\n",
      "Passed 0 steps.\n",
      "Passed 0 steps.\n",
      "Passed 0 steps.\n",
      "Passed 0 steps.\n",
      "Passed 0 steps.\n",
      "Passed 0 steps.\n",
      "Passed 0 steps.\n",
      "Passed 0 steps.\n",
      "Passed 0 steps.\n",
      "Passed 0 steps.\n",
      "Passed 0 steps.\n",
      "Passed 0 steps.\n",
      "Passed 0 steps.\n",
      "Passed 0 steps.\n",
      "Passed 0 steps.\n",
      "Passed 0 steps.\n",
      "Passed 0 steps.\n",
      "Passed 0 steps.\n",
      "Passed 0 steps.\n",
      "Passed 0 steps.\n",
      "Passed 0 steps.\n",
      "Passed 0 steps.\n",
      "Passed 0 steps.\n",
      "Passed 0 steps.\n",
      "Passed 0 steps.\n",
      "Passed 0 steps.\n",
      "Passed 0 steps.\n",
      "Passed 0 steps.\n",
      "Passed 0 steps.\n",
      "Passed 0 steps.\n",
      "Passed 0 steps.\n",
      "Passed 0 steps.\n",
      "Passed 0 steps.\n",
      "Passed 0 steps.\n",
      "Passed 0 steps.\n",
      "Passed 0 steps.\n",
      "Passed 0 steps.\n",
      "Passed 0 steps.\n",
      "Passed 0 steps.\n",
      "Passed 0 steps.\n",
      "Passed 0 steps.\n",
      "Passed 0 steps.\n",
      "Passed 0 steps.\n",
      "Passed 0 steps.\n",
      "Passed 0 steps.\n",
      "Passed 0 steps.\n",
      "Passed 0 steps.\n",
      "Passed 0 steps.\n",
      "Passed 0 steps.\n",
      "Passed 0 steps.\n",
      "Passed 0 steps.\n",
      "Passed 0 steps.\n",
      "Passed 0 steps.\n",
      "Passed 0 steps.\n",
      "Passed 0 steps.\n",
      "Passed 0 steps.\n",
      "Passed 0 steps.\n",
      "Passed 0 steps.\n",
      "Passed 0 steps.\n",
      "Passed 0 steps.\n",
      "Passed 0 steps.\n",
      "Passed 0 steps.\n",
      "Passed 0 steps.\n",
      "Passed 0 steps.\n",
      "Passed 0 steps.\n",
      "Passed 0 steps.\n",
      "Passed 0 steps.\n",
      "Passed 0 steps.\n",
      "Passed 0 steps.\n",
      "Passed 0 steps.\n",
      "Passed 0 steps.\n",
      "Passed 0 steps.\n",
      "Passed 0 steps.\n",
      "Passed 0 steps.\n",
      "Passed 0 steps.\n",
      "Passed 0 steps.\n",
      "Passed 0 steps.\n",
      "Passed 0 steps.\n",
      "Passed 0 steps.\n",
      "Passed 0 steps.\n",
      "Passed 0 steps.\n",
      "Passed 0 steps.\n",
      "Passed 0 steps.\n",
      "Passed 0 steps.\n",
      "Passed 0 steps.\n",
      "Passed 0 steps.\n",
      "Passed 0 steps.\n",
      "Passed 0 steps.\n",
      "Passed 0 steps.\n",
      "Passed 0 steps.\n",
      "Passed 0 steps.\n",
      "Passed 0 steps.\n",
      "Passed 0 steps.\n",
      "Passed 0 steps.\n",
      "Passed 0 steps.\n",
      "Passed 0 steps.\n",
      "Passed 0 steps.\n",
      "Passed 0 steps.\n",
      "Passed 0 steps.\n",
      "Passed 0 steps.\n",
      "Passed 0 steps.\n",
      "Passed 0 steps.\n",
      "Passed 0 steps.\n",
      "Passed 0 steps.\n",
      "Passed 0 steps.\n",
      "Passed 0 steps.\n",
      "Passed 0 steps.\n",
      "Passed 0 steps.\n",
      "Passed 0 steps.\n",
      "Passed 0 steps.\n",
      "Passed 0 steps.\n",
      "Passed 0 steps.\n",
      "Passed 0 steps.\n",
      "Passed 0 steps.\n",
      "Passed 0 steps.\n",
      "Passed 0 steps.\n",
      "Passed 0 steps.\n",
      "Passed 0 steps.\n",
      "Passed 0 steps.\n",
      "Passed 0 steps.\n",
      "Passed 0 steps.\n",
      "Passed 0 steps.\n",
      "Passed 0 steps.\n",
      "Passed 0 steps.\n",
      "Passed 0 steps.\n",
      "Passed 0 steps.\n",
      "Passed 0 steps.\n",
      "Passed 0 steps.\n",
      "Passed 0 steps.\n",
      "Passed 0 steps.\n",
      "Passed 0 steps.\n",
      "Passed 0 steps.\n",
      "Passed 0 steps.\n",
      "Passed 0 steps.\n",
      "Passed 0 steps.\n",
      "Passed 0 steps.\n",
      "Passed 0 steps.\n",
      "Passed 0 steps.\n",
      "Passed 0 steps.\n",
      "Passed 0 steps.\n",
      "Passed 0 steps.\n",
      "Passed 0 steps.\n",
      "Passed 0 steps.\n",
      "Passed 0 steps.\n",
      "Passed 0 steps.\n",
      "Passed 0 steps.\n",
      "Passed 0 steps.\n",
      "Passed 0 steps.\n",
      "Passed 0 steps.\n",
      "Passed 0 steps.\n",
      "Passed 0 steps.\n",
      "Passed 0 steps.\n",
      "Passed 0 steps.\n",
      "Passed 0 steps.\n",
      "Passed 0 steps.\n",
      "Passed 0 steps.\n",
      "Passed 0 steps.\n",
      "Passed 0 steps.\n",
      "Passed 0 steps.\n",
      "Passed 0 steps.\n",
      "Passed 0 steps.\n",
      "Passed 0 steps.\n",
      "Passed 0 steps.\n",
      "Passed 0 steps.\n",
      "Passed 0 steps.\n",
      "Passed 0 steps.\n",
      "Passed 0 steps.\n",
      "Passed 0 steps.\n",
      "Passed 0 steps.\n",
      "Passed 0 steps.\n",
      "Passed 0 steps.\n",
      "Passed 0 steps.\n",
      "Passed 0 steps.\n",
      "Passed 0 steps.\n",
      "Passed 0 steps.\n",
      "Passed 0 steps.\n",
      "Passed 0 steps.\n",
      "Passed 0 steps.\n",
      "Passed 0 steps.\n",
      "Passed 0 steps.\n",
      "Passed 0 steps.\n",
      "Passed 0 steps.\n",
      "Passed 0 steps.\n",
      "Passed 0 steps.\n",
      "Passed 0 steps.\n",
      "Passed 0 steps.\n",
      "Passed 0 steps.\n",
      "Passed 0 steps.\n",
      "Passed 0 steps.\n",
      "Passed 0 steps.\n",
      "Passed 0 steps.\n",
      "Passed 0 steps.\n",
      "Passed 0 steps.\n",
      "Passed 0 steps.\n",
      "Passed 0 steps.\n",
      "Passed 0 steps.\n",
      "Passed 0 steps.\n",
      "Passed 0 steps.\n",
      "Passed 0 steps.\n",
      "Passed 0 steps.\n",
      "Passed 0 steps.\n",
      "Passed 0 steps.\n",
      "Passed 0 steps.\n",
      "Passed 0 steps.\n",
      "Passed 0 steps.\n",
      "Passed 0 steps.\n",
      "Passed 0 steps.\n",
      "Passed 0 steps.\n",
      "Passed 0 steps.\n",
      "Passed 0 steps.\n",
      "Passed 0 steps.\n",
      "Passed 0 steps.\n",
      "Passed 0 steps.\n",
      "Passed 0 steps.\n",
      "Passed 0 steps.\n",
      "Passed 0 steps.\n",
      "Passed 0 steps.\n",
      "Passed 0 steps.\n",
      "Passed 0 steps.\n",
      "Passed 0 steps.\n",
      "Passed 0 steps.\n",
      "Passed 0 steps.\n",
      "Passed 0 steps.\n",
      "Passed 0 steps.\n",
      "Passed 0 steps.\n",
      "Passed 0 steps.\n",
      "Passed 0 steps.\n",
      "Passed 0 steps.\n",
      "Passed 0 steps.\n",
      "Passed 0 steps.\n",
      "Passed 0 steps.\n",
      "Passed 0 steps.\n",
      "Passed 0 steps.\n",
      "Passed 0 steps.\n",
      "Passed 0 steps.\n",
      "Passed 0 steps.\n",
      "Passed 0 steps.\n",
      "Passed 0 steps.\n",
      "Passed 0 steps.\n",
      "Passed 0 steps.\n",
      "Passed 0 steps.\n",
      "Passed 0 steps.\n",
      "Passed 0 steps.\n",
      "Passed 0 steps.\n",
      "Passed 0 steps.\n",
      "Passed 0 steps.\n",
      "Passed 0 steps.\n",
      "Passed 0 steps.\n",
      "Passed 0 steps.\n",
      "Passed 0 steps.\n",
      "Passed 0 steps.\n",
      "Passed 0 steps.\n",
      "Passed 0 steps.\n",
      "Passed 0 steps.\n",
      "Passed 0 steps.\n",
      "Passed 0 steps.\n",
      "Passed 0 steps.\n",
      "Passed 0 steps.\n",
      "Passed 0 steps.\n",
      "Passed 0 steps.\n",
      "Passed 0 steps.\n"
     ]
    }
   ],
   "source": [
    "num_runs = 300\n",
    "n_steps =  10000\n",
    "Q_list = []\n",
    "for n in range(num_runs):\n",
    "    optimal_policy, Q = sarsa(env, n_steps=n_steps, gamma=GAMMA, alpha=ALPHA, begin_epsilon=1, end_epsilon=0.001, verbose=True)\n",
    "    Q_list.append(Q)\n",
    "Q_td_sarsa = np.array(Q_list).mean(axis=0)"
   ]
  },
  {
   "cell_type": "code",
   "execution_count": 118,
   "id": "16c6f388-b5a4-4380-8e7f-6a9fa169b574",
   "metadata": {},
   "outputs": [],
   "source": [
    "policy_td_sarsa = compute_optimal_policy(env, Q_td_sarsa)"
   ]
  },
  {
   "cell_type": "code",
   "execution_count": 119,
   "id": "88ff1767-648b-49a1-b1ab-6dd0e761dce2",
   "metadata": {},
   "outputs": [],
   "source": [
    "env.reset()\n",
    "\n",
    "# This is for one policy\n",
    "total_return = 0 \n",
    "for n in range(num_runs):\n",
    "    for ep in range(n_episodes):\n",
    "        action = np.argmax(policy_td_sarsa[env.current_state])\n",
    "        reward, next_state, done = env.step(action)\n",
    "        if done:\n",
    "            #print(f'Completed in {ep} episodes')\n",
    "            break\n",
    "        total_return += reward  # return for one run, but they can be different so we need to average them over many independent runs\n",
    "    env.reset()\n",
    "        \n",
    "# average return of the policy \"policy_td_sarsa\"\n",
    "avarage_return_sarsa=total_return/ num_runs"
   ]
  },
  {
   "cell_type": "code",
   "execution_count": 120,
   "id": "64290e9a-8d9e-4fc0-a0ce-edae494e32b6",
   "metadata": {},
   "outputs": [
    {
     "data": {
      "text/plain": [
       "39.31333333333333"
      ]
     },
     "execution_count": 120,
     "metadata": {},
     "output_type": "execute_result"
    }
   ],
   "source": [
    "avarage_return_sarsa"
   ]
  },
  {
   "cell_type": "markdown",
   "id": "40e827c7-28dd-4cb3-b15a-ef9ad1f2c0fd",
   "metadata": {},
   "source": [
    "### Q-learning"
   ]
  },
  {
   "cell_type": "code",
   "execution_count": 121,
   "id": "8e61cd87-6634-4633-a637-f064004cd3ec",
   "metadata": {},
   "outputs": [
    {
     "name": "stdout",
     "output_type": "stream",
     "text": [
      "Passed 0 steps.\n"
     ]
    }
   ],
   "source": [
    "n_steps = 100000\n",
    "policy_td_q_learning, Q = q_learning(env, n_steps=n_steps, gamma=GAMMA, alpha=ALPHA, begin_epsilon=1, end_epsilon=0.01, verbose=True)"
   ]
  },
  {
   "cell_type": "code",
   "execution_count": 122,
   "id": "51dc9ac1-47d6-4302-a525-88705cb267ab",
   "metadata": {},
   "outputs": [],
   "source": [
    "env.reset()\n",
    "# This is for one policy policy_td_q_learning\n",
    "total_return = 0\n",
    "for n in range(num_runs):\n",
    "    for ep in range(n_episodes):\n",
    "        action = np.argmax(policy_td_q_learning[env.current_state])\n",
    "        reward, next_state, done = env.step(action)\n",
    "        if done:\n",
    "            #print(f'Completed in {ep} episodes')\n",
    "            break\n",
    "        total_return += reward  # return for one run, but they can be different so we need to average them over many independent runs\n",
    "    env.reset()\n",
    "        \n",
    "# average return of the policy \"policy_td_q_learning\"\n",
    "avarage_return_q=total_return/ num_runs"
   ]
  },
  {
   "cell_type": "code",
   "execution_count": 123,
   "id": "6974820d-7012-423e-8a45-4773bebcd73c",
   "metadata": {},
   "outputs": [
    {
     "data": {
      "text/plain": [
       "61.46666666666667"
      ]
     },
     "execution_count": 123,
     "metadata": {},
     "output_type": "execute_result"
    }
   ],
   "source": [
    "avarage_return_q"
   ]
  },
  {
   "cell_type": "markdown",
   "id": "321d9130-edcd-4e32-a7c1-c98ed32f3f2b",
   "metadata": {},
   "source": [
    "# VFA"
   ]
  },
  {
   "cell_type": "code",
   "execution_count": 124,
   "id": "1cc7235d-f274-46d5-8ab6-24113d700ae9",
   "metadata": {},
   "outputs": [],
   "source": [
    "feature_extractor  = FeatureExtractor(env)"
   ]
  },
  {
   "cell_type": "code",
   "execution_count": 125,
   "id": "6eeb047b-e24b-4602-b35d-f83c714fa3c0",
   "metadata": {},
   "outputs": [],
   "source": [
    "vfa = VFA(env, feature_extractor, alpha=ALPHA, gamma=GAMMA, epsilon=1)"
   ]
  },
  {
   "cell_type": "markdown",
   "id": "3683430a-5eee-4844-8833-6b71b311de3f",
   "metadata": {},
   "source": [
    "### Sarsa"
   ]
  },
  {
   "cell_type": "code",
   "execution_count": 126,
   "id": "89f5ce34-da28-4eb1-ad4c-6104c1642626",
   "metadata": {},
   "outputs": [],
   "source": [
    "Q_vfa_sarsa = vfa.semi_gradient_sarsa(n_steps=200000, begin_epsilon=1, end_epsilon=0.1)\n",
    "policy_vfa_sarsa = compute_optimal_policy(env, Q_vfa_sarsa)"
   ]
  },
  {
   "cell_type": "code",
   "execution_count": 127,
   "id": "402c5454-ba06-4114-9602-0aa715d1c31b",
   "metadata": {},
   "outputs": [],
   "source": [
    "env.reset()\n",
    "# This is for one policy policy_vfa_sarsa\n",
    "total_return = 0\n",
    "for n in range(num_runs):\n",
    "    for ep in range(n_episodes):\n",
    "        action = np.argmax(policy_vfa_sarsa[env.current_state])\n",
    "        reward, next_state, done = env.step(action)\n",
    "        if done:\n",
    "            #print(f'Completed in {ep} episodes')\n",
    "            break\n",
    "        total_return += reward  # return for one run, but they can be different so we need to average them over many independent runs\n",
    "    env.reset()\n",
    "        \n",
    "# average return of the policy \"policy_vfa_sarsa\"\n",
    "avarage_return_VFA_sarsa=total_return/ num_runs"
   ]
  },
  {
   "cell_type": "code",
   "execution_count": 128,
   "id": "216aa673-cb8b-4180-a9fe-e220f00d5e1e",
   "metadata": {},
   "outputs": [
    {
     "data": {
      "text/plain": [
       "-104.16"
      ]
     },
     "execution_count": 128,
     "metadata": {},
     "output_type": "execute_result"
    }
   ],
   "source": [
    "avarage_return_VFA_sarsa"
   ]
  },
  {
   "cell_type": "markdown",
   "id": "c91250bf-682a-4e87-8507-6ca2fe82ac94",
   "metadata": {},
   "source": [
    "### Q-learning"
   ]
  },
  {
   "cell_type": "code",
   "execution_count": 129,
   "id": "63a321b9-9397-4495-a36e-b92a6c1d6752",
   "metadata": {},
   "outputs": [],
   "source": [
    "Q_vfa_qlearning = vfa.semi_gradient_qlearning(n_steps=20000, begin_epsilon=1, end_epsilon=0.1)\n",
    "policy_vfa_qlearning = compute_optimal_policy(env, Q_vfa_qlearning)"
   ]
  },
  {
   "cell_type": "code",
   "execution_count": 130,
   "id": "8909ca37-8021-4b45-8903-3e046ef7fb88",
   "metadata": {},
   "outputs": [],
   "source": [
    "env.reset()\n",
    "# This is for one policy policy_vfa_qlearning\n",
    "total_return = 0\n",
    "for n in range(num_runs):\n",
    "    for ep in range(n_episodes):\n",
    "        action = np.argmax(policy_vfa_qlearning[env.current_state])\n",
    "        reward, next_state, done = env.step(action)\n",
    "        if done:\n",
    "            print(f'Completed in {ep} episodes')\n",
    "            break\n",
    "        total_return += reward  # return for one run, but they can be different so we need to average them over many independent runs\n",
    "    env.reset()\n",
    "        \n",
    "# average return of the policy \"policy_vfa_qlearning\"\n",
    "avarage_return_VFA_q=total_return/ num_runs"
   ]
  },
  {
   "cell_type": "code",
   "execution_count": 131,
   "id": "ace0ce2d-680b-436b-9899-f782e9db78ac",
   "metadata": {},
   "outputs": [
    {
     "data": {
      "text/plain": [
       "-140.0"
      ]
     },
     "execution_count": 131,
     "metadata": {},
     "output_type": "execute_result"
    }
   ],
   "source": [
    "avarage_return_VFA_q"
   ]
  },
  {
   "cell_type": "markdown",
   "id": "056fdc61-5641-4872-8494-ac30944fe566",
   "metadata": {},
   "source": [
    "## DQN"
   ]
  },
  {
   "cell_type": "code",
   "execution_count": 141,
   "id": "1cabc50a",
   "metadata": {},
   "outputs": [],
   "source": [
    "batch_size = 32\n",
    "EPISODES = 100\n",
    "num_iterations= 100"
   ]
  },
  {
   "cell_type": "code",
   "execution_count": 142,
   "id": "3c8e2253",
   "metadata": {},
   "outputs": [
    {
     "name": "stdout",
     "output_type": "stream",
     "text": [
      "Saved checkpoint for episode 50 at 'trained_agents/model_checkpoint_episode_50.pth'\n",
      "Saved checkpoint for episode 100 at 'trained_agents/model_checkpoint_episode_100.pth'\n"
     ]
    }
   ],
   "source": [
    "Q=DQN_train(env, batch_size, EPISODES, num_iterations)"
   ]
  },
  {
   "cell_type": "code",
   "execution_count": 143,
   "id": "72fdda0c-fcf1-4679-84dc-259f591963ad",
   "metadata": {},
   "outputs": [],
   "source": [
    "def test_DQN(env, checkpoint_path):\n",
    "    \"\"\"\n",
    "    Test our DQN algorithm, loading it from the checkpoint file and output cumulative return.\n",
    "    \n",
    "    Args:\n",
    "        env: a MDP enviornment\n",
    "        checkpoint_path: take the file  \n",
    "    \"\"\" \n",
    "    \n",
    "    # Initialize the state, the action size and the state size\n",
    "    state= env.reset()\n",
    "    state_size = 1\n",
    "    action_size = len(env.get_possible_actions(state))\n",
    "    \n",
    "    # initialize the model\n",
    "    loaded_model = DQN(state_size, action_size)\n",
    " \n",
    "    # Load the state dictionary into the model\n",
    "    loaded_model.load_state_dict(torch.load(checkpoint_path))\n",
    "\n",
    "    loaded_model.to(device) \n",
    "\n",
    "    # initilize the agent \n",
    "    agent = DQNAgent(env, state_size, action_size)\n",
    "    agent.model = loaded_model\n",
    "    agent.target_model = loaded_model\n",
    "    agent.epsilon = 0.1\n",
    "    \n",
    "    # initialize the variables needed\n",
    "    done = False\n",
    "    total_reward = 0\n",
    "    \n",
    "    # Loop until the episode ends ( we can't do it, it's too computational expensive, so we put a threshold)\n",
    "    for _ in range(10000):# not done:\n",
    "\n",
    "        # Reshape the state for the DQN\n",
    "        state = np.reshape(state, [1, state_size])\n",
    "\n",
    "        # Select an action following the greedy policy\n",
    "        action = agent.act(state, training=False)\n",
    "\n",
    "        # Perform the action and store the next_state the reward and if the state is terminal\n",
    "        reward, next_state, done = env.step(action)\n",
    "\n",
    "        # Move to the next state\n",
    "        state = next_state\n",
    "\n",
    "        # check if the state is terminal\n",
    "        if done:\n",
    "            break\n",
    "        \n",
    "        # update reward\n",
    "        total_reward += reward\n",
    "    \n",
    "    return (f'Total reward: {total_reward}')"
   ]
  },
  {
   "cell_type": "code",
   "execution_count": 144,
   "id": "f81a6fdd-3f62-4356-912d-9f87571daf14",
   "metadata": {},
   "outputs": [],
   "source": [
    "checkpoint_path = \"trained_agents/model_checkpoint_episode_100.pth\""
   ]
  },
  {
   "cell_type": "code",
   "execution_count": 145,
   "id": "3eb1d01e-e742-4a15-a85f-057d5849b9f6",
   "metadata": {},
   "outputs": [
    {
     "data": {
      "text/plain": [
       "'Total reward: 8'"
      ]
     },
     "execution_count": 145,
     "metadata": {},
     "output_type": "execute_result"
    }
   ],
   "source": [
    "test_DQN(env, checkpoint_path)"
   ]
  },
  {
   "cell_type": "code",
   "execution_count": 146,
   "id": "61e4dc70-c032-48c6-97a4-34a9b0f3c440",
   "metadata": {},
   "outputs": [],
   "source": [
    "# Initialize the state, the action size and the state size\n",
    "state= env.reset()\n",
    "state_size = 1\n",
    "action_size = len(env.get_possible_actions(state))\n",
    "\n",
    "# initialize the model\n",
    "loaded_model = DQN(state_size, action_size)\n",
    "\n",
    "# Load the state dictionary into the model\n",
    "loaded_model.load_state_dict(torch.load(checkpoint_path))\n",
    "\n",
    "loaded_model.to(device) \n",
    "\n",
    "# initilize the agent \n",
    "agent = DQNAgent(env, state_size, action_size)\n",
    "agent.model = loaded_model\n",
    "agent.target_model = loaded_model\n",
    "agent.epsilon = 0.1\n",
    "\n",
    "# initialize the variables needed\n",
    "done = False\n",
    "total_reward = 0\n",
    "\n",
    "# Loop until the episode ends ( we can't do it, it's too computational expensive, so we put a threshold)\n",
    "for n in range(num_runs):\n",
    "    for ep in range(n_episodes):\n",
    "        # Reshape the state for the DQN\n",
    "        state = np.reshape(state, [1, state_size])\n",
    "\n",
    "        # Select an action following the greedy policy\n",
    "        action = agent.act(state, training=False)\n",
    "\n",
    "        # Perform the action and store the next_state the reward and if the state is terminal\n",
    "        reward, next_state, done = env.step(action)\n",
    "\n",
    "        # Move to the next state\n",
    "        state = next_state\n",
    "\n",
    "        # check if the state is terminal\n",
    "        if done:\n",
    "            break\n",
    "        \n",
    "        # update reward\n",
    "        total_reward += reward\n",
    "        \n",
    "        # Move to the next state\n",
    "    env.reset()\n",
    "        \n",
    "        # check if the state is terminal\n",
    "      \n",
    "\n",
    "avarage_return_dqn=total_reward/ num_runs"
   ]
  },
  {
   "cell_type": "code",
   "execution_count": 147,
   "id": "d474363d-8863-4832-8f0d-aee80098b206",
   "metadata": {},
   "outputs": [
    {
     "data": {
      "text/plain": [
       "9.5"
      ]
     },
     "execution_count": 147,
     "metadata": {},
     "output_type": "execute_result"
    }
   ],
   "source": [
    "avarage_return_dqn"
   ]
  },
  {
   "cell_type": "markdown",
   "id": "a6e54276-589b-460d-86cf-b57a6fb392b7",
   "metadata": {},
   "source": [
    "## Bar plot"
   ]
  },
  {
   "cell_type": "code",
   "execution_count": 148,
   "id": "5402623e-835f-428c-9400-16b8bd5fd168",
   "metadata": {
    "scrolled": true
   },
   "outputs": [
    {
     "data": {
      "text/plain": [
       "Text(0.5, 1.0, 'Avarage reward for 4 rooms')"
      ]
     },
     "execution_count": 148,
     "metadata": {},
     "output_type": "execute_result"
    },
    {
     "data": {
      "image/png": "[encoded data removed]",
      "text/plain": [
       "<Figure size 640x480 with 1 Axes>"
      ]
     },
     "metadata": {},
     "output_type": "display_data"
    }
   ],
   "source": [
    "plt.bar(['DP','MC','TD_SARSA','TD_Q','VFA_SARSA','VFA_Q','DQN'],[avarage_return_dp, avarage_return_mc,avarage_return_sarsa, avarage_return_q, avarage_return_VFA_sarsa, avarage_return_VFA_q,avarage_return_dqn], width = 0.5)\n",
    "plt.title('Avarage reward for 4 rooms')"
   ]
  },
  {
   "cell_type": "markdown",
   "id": "e7a2898e-71ac-4c8d-85e1-2a862972bc58",
   "metadata": {},
   "source": [
    "# 5 rooms"
   ]
  },
  {
   "cell_type": "code",
   "execution_count": 150,
   "id": "cf68d9ad-f062-4052-94a0-8fcefa90e0c4",
   "metadata": {},
   "outputs": [
    {
     "name": "stdout",
     "output_type": "stream",
     "text": [
      "Number of states: 25200\n",
      "Terminal states:\n",
      "('Room 1', 5, 2, 4, 7, 6)\n",
      "('Room 2', 5, 2, 4, 7, 6)\n",
      "('Room 3', 5, 2, 4, 7, 6)\n",
      "('Room 4', 5, 2, 4, 7, 6)\n",
      "('Room 5', 5, 2, 4, 7, 6)\n",
      "==================\n",
      "Possbile actions:\n",
      "search\n",
      "stay\n",
      "go_to_room_1\n",
      "go_to_room_2\n",
      "go_to_room_3\n",
      "go_to_room_4\n",
      "go_to_room_5\n"
     ]
    }
   ],
   "source": [
    " # Maximum number of eggs for each room\n",
    "n_eggs_list =     [5,    2 ,   4 , 7, 6,\n",
    "                  ]\n",
    "# Number of rooms\n",
    "n_rooms = len(n_eggs_list)  \n",
    "\n",
    "# Initial probabilities to find an egg for each room\n",
    "initial_p_list =  [0.8,  0.3 , 0.5, 0.9, 0.6\n",
    "                  ]\n",
    "\n",
    "# Decay probability rates for each room\n",
    "decay_rate_list = [0.8,  0.9  , 0.7, 0.6, 0.4\n",
    "                  ]\n",
    "\n",
    "GAMMA = 0.9\n",
    "\n",
    "ALPHA = 0.1\n",
    "\n",
    "# create the environment\n",
    "transition_probabilities, states, actions, total_eggs = create_environment(n_rooms, n_eggs_list, initial_p_list, decay_rate_list)\n",
    "\n",
    "# initialize the environment\n",
    "env = EggsHuntEnv(states, actions, transition_probabilities, total_eggs)\n",
    "\n",
    "env.reset()\n",
    "print(f'Number of states: {env.num_states}')\n",
    "\n",
    "print('Terminal states:')\n",
    "for state in env.states:\n",
    "    if env.is_terminal_state(state):\n",
    "        print(env.get_state_name(state))\n",
    "\n",
    "print('==================')\n",
    "print('Possbile actions:')\n",
    "for action in env.actions:\n",
    "    print(env.get_action_name(action))"
   ]
  },
  {
   "cell_type": "code",
   "execution_count": 151,
   "id": "db520940-a82a-422f-adf7-e2e45d6aec93",
   "metadata": {},
   "outputs": [],
   "source": [
    "random_policy = create_random_policy(env)"
   ]
  },
  {
   "cell_type": "code",
   "execution_count": 152,
   "id": "ead33170-8739-4482-ba19-5e644e0b7b0b",
   "metadata": {},
   "outputs": [],
   "source": [
    "num_runs = 500  # number of runs\n",
    "n_episodes = 100 # number of episodes in each run"
   ]
  },
  {
   "cell_type": "markdown",
   "id": "9fd584b4-b459-46b0-bcee-848a5d01a4d0",
   "metadata": {},
   "source": [
    "## DP"
   ]
  },
  {
   "cell_type": "code",
   "execution_count": 153,
   "id": "2ede68a2-183a-4b42-a4a7-b7bf823a729a",
   "metadata": {},
   "outputs": [
    {
     "data": {
      "text/plain": [
       "0"
      ]
     },
     "execution_count": 153,
     "metadata": {},
     "output_type": "execute_result"
    }
   ],
   "source": [
    "env.reset()"
   ]
  },
  {
   "cell_type": "code",
   "execution_count": 154,
   "id": "8b035700-f579-45ce-a826-85755f26fdad",
   "metadata": {
    "scrolled": true
   },
   "outputs": [
    {
     "data": {
      "text/plain": [
       "array([38.28514517, 37.56935241, 37.52766352, ...,  0.        ,\n",
       "        0.        ,  0.        ])"
      ]
     },
     "execution_count": 154,
     "metadata": {},
     "output_type": "execute_result"
    }
   ],
   "source": [
    "policy_dp, V, Q_dp = policy_iteration(env, gamma=GAMMA, threshold=0.001, verbose=False)\n",
    "V"
   ]
  },
  {
   "cell_type": "code",
   "execution_count": 155,
   "id": "a661e7ca-90fc-4707-9c16-5c81a52023a5",
   "metadata": {},
   "outputs": [],
   "source": [
    "env.reset()\n",
    "\n",
    "# This is for one policy\n",
    "total_return = 0 \n",
    "for n in range(num_runs):\n",
    "    for ep in range(n_episodes):\n",
    "        action = np.argmax(policy_dp[env.current_state])\n",
    "        reward, next_state, done = env.step(action)\n",
    "        if done:\n",
    "            #print(f'Completed in {ep} episodes')\n",
    "            break\n",
    "        total_return += reward  # return for one run, but they can be different so we need to average them over many independent runs\n",
    "    env.reset()\n",
    "        \n",
    "# average return of the policy \"policy_dp\"\n",
    "avarage_return_dp=total_return/ num_runs"
   ]
  },
  {
   "cell_type": "code",
   "execution_count": 156,
   "id": "02095356-c4d4-4cbc-a8ab-e6890d7dc6e6",
   "metadata": {},
   "outputs": [
    {
     "data": {
      "text/plain": [
       "98.16"
      ]
     },
     "execution_count": 156,
     "metadata": {},
     "output_type": "execute_result"
    }
   ],
   "source": [
    "avarage_return_dp"
   ]
  },
  {
   "cell_type": "markdown",
   "id": "68eb8278-56cb-41cf-8efb-648b8423bd20",
   "metadata": {},
   "source": [
    "## MC"
   ]
  },
  {
   "cell_type": "code",
   "execution_count": 157,
   "id": "dc06ebde-6ed2-4adf-9c96-9f9bd1a25757",
   "metadata": {},
   "outputs": [
    {
     "data": {
      "text/plain": [
       "0"
      ]
     },
     "execution_count": 157,
     "metadata": {},
     "output_type": "execute_result"
    }
   ],
   "source": [
    "env.reset()"
   ]
  },
  {
   "cell_type": "code",
   "execution_count": 158,
   "id": "db594520-3bb3-4229-80af-db4b79bb3d1a",
   "metadata": {},
   "outputs": [],
   "source": [
    "optimal_policy_mc, Q_mc= MC_onpolicy(env, policy=None, eps=0.01, num_timesteps=500, num_iterations=10000)"
   ]
  },
  {
   "cell_type": "code",
   "execution_count": 159,
   "id": "c57c7571-40e0-489f-826e-5829a80e3f99",
   "metadata": {},
   "outputs": [],
   "source": [
    "env.reset()\n",
    "\n",
    "# This is for one policy\n",
    "total_return = 0 \n",
    "for n in range(num_runs):\n",
    "    for ep in range(n_episodes):\n",
    "        action = np.argmax(optimal_policy_mc[env.current_state])\n",
    "        reward, next_state, done = env.step(action)\n",
    "        if done:\n",
    "            #print(f'Completed in {ep} episodes')\n",
    "            break\n",
    "        total_return += reward  # return for one run, but they can be different so we need to average them over many independent runs\n",
    "    env.reset()\n",
    "        \n",
    "# average return of the policy \"optimal_policy_mc\"\n",
    "avarage_return_mc=total_return/ num_runs"
   ]
  },
  {
   "cell_type": "code",
   "execution_count": 160,
   "id": "7b8e6ed2-03d4-4791-8727-a22b31db7287",
   "metadata": {},
   "outputs": [
    {
     "data": {
      "text/plain": [
       "29.324"
      ]
     },
     "execution_count": 160,
     "metadata": {},
     "output_type": "execute_result"
    }
   ],
   "source": [
    "avarage_return_mc"
   ]
  },
  {
   "cell_type": "markdown",
   "id": "d6a35977-4aef-44d6-a607-4923e4a95dfd",
   "metadata": {},
   "source": [
    "## TD"
   ]
  },
  {
   "cell_type": "code",
   "execution_count": 161,
   "id": "d0a22e43-b05f-4057-9ce6-3d23eb804d7f",
   "metadata": {
    "scrolled": true
   },
   "outputs": [],
   "source": [
    "Q = temploral_difference_policy_evaluation(env, policy=random_policy, n_steps=10000, gamma=GAMMA, alpha=ALPHA)"
   ]
  },
  {
   "cell_type": "markdown",
   "id": "61ce6e1d-1b7c-4d35-be9a-db800192007e",
   "metadata": {},
   "source": [
    "### Sarsa"
   ]
  },
  {
   "cell_type": "code",
   "execution_count": 162,
   "id": "4f2880bc-34f0-4e49-988f-8b960e33cce7",
   "metadata": {
    "scrolled": true
   },
   "outputs": [
    {
     "name": "stdout",
     "output_type": "stream",
     "text": [
      "Passed 0 steps.\n",
      "Passed 0 steps.\n",
      "Passed 0 steps.\n",
      "Passed 0 steps.\n",
      "Passed 0 steps.\n",
      "Passed 0 steps.\n",
      "Passed 0 steps.\n",
      "Passed 0 steps.\n",
      "Passed 0 steps.\n",
      "Passed 0 steps.\n",
      "Passed 0 steps.\n",
      "Passed 0 steps.\n",
      "Passed 0 steps.\n",
      "Passed 0 steps.\n",
      "Passed 0 steps.\n",
      "Passed 0 steps.\n",
      "Passed 0 steps.\n",
      "Passed 0 steps.\n",
      "Passed 0 steps.\n",
      "Passed 0 steps.\n",
      "Passed 0 steps.\n",
      "Passed 0 steps.\n",
      "Passed 0 steps.\n",
      "Passed 0 steps.\n",
      "Passed 0 steps.\n",
      "Passed 0 steps.\n",
      "Passed 0 steps.\n",
      "Passed 0 steps.\n",
      "Passed 0 steps.\n",
      "Passed 0 steps.\n",
      "Passed 0 steps.\n",
      "Passed 0 steps.\n",
      "Passed 0 steps.\n",
      "Passed 0 steps.\n",
      "Passed 0 steps.\n",
      "Passed 0 steps.\n",
      "Passed 0 steps.\n",
      "Passed 0 steps.\n",
      "Passed 0 steps.\n",
      "Passed 0 steps.\n",
      "Passed 0 steps.\n",
      "Passed 0 steps.\n",
      "Passed 0 steps.\n",
      "Passed 0 steps.\n",
      "Passed 0 steps.\n",
      "Passed 0 steps.\n",
      "Passed 0 steps.\n",
      "Passed 0 steps.\n",
      "Passed 0 steps.\n",
      "Passed 0 steps.\n",
      "Passed 0 steps.\n",
      "Passed 0 steps.\n",
      "Passed 0 steps.\n",
      "Passed 0 steps.\n",
      "Passed 0 steps.\n",
      "Passed 0 steps.\n",
      "Passed 0 steps.\n",
      "Passed 0 steps.\n",
      "Passed 0 steps.\n",
      "Passed 0 steps.\n",
      "Passed 0 steps.\n",
      "Passed 0 steps.\n",
      "Passed 0 steps.\n",
      "Passed 0 steps.\n",
      "Passed 0 steps.\n",
      "Passed 0 steps.\n",
      "Passed 0 steps.\n",
      "Passed 0 steps.\n",
      "Passed 0 steps.\n",
      "Passed 0 steps.\n",
      "Passed 0 steps.\n",
      "Passed 0 steps.\n",
      "Passed 0 steps.\n",
      "Passed 0 steps.\n",
      "Passed 0 steps.\n",
      "Passed 0 steps.\n",
      "Passed 0 steps.\n",
      "Passed 0 steps.\n",
      "Passed 0 steps.\n",
      "Passed 0 steps.\n",
      "Passed 0 steps.\n",
      "Passed 0 steps.\n",
      "Passed 0 steps.\n",
      "Passed 0 steps.\n",
      "Passed 0 steps.\n",
      "Passed 0 steps.\n",
      "Passed 0 steps.\n",
      "Passed 0 steps.\n",
      "Passed 0 steps.\n",
      "Passed 0 steps.\n",
      "Passed 0 steps.\n",
      "Passed 0 steps.\n",
      "Passed 0 steps.\n",
      "Passed 0 steps.\n",
      "Passed 0 steps.\n",
      "Passed 0 steps.\n",
      "Passed 0 steps.\n",
      "Passed 0 steps.\n",
      "Passed 0 steps.\n",
      "Passed 0 steps.\n",
      "Passed 0 steps.\n",
      "Passed 0 steps.\n",
      "Passed 0 steps.\n",
      "Passed 0 steps.\n",
      "Passed 0 steps.\n",
      "Passed 0 steps.\n",
      "Passed 0 steps.\n",
      "Passed 0 steps.\n",
      "Passed 0 steps.\n",
      "Passed 0 steps.\n",
      "Passed 0 steps.\n",
      "Passed 0 steps.\n",
      "Passed 0 steps.\n",
      "Passed 0 steps.\n",
      "Passed 0 steps.\n",
      "Passed 0 steps.\n",
      "Passed 0 steps.\n",
      "Passed 0 steps.\n",
      "Passed 0 steps.\n",
      "Passed 0 steps.\n",
      "Passed 0 steps.\n",
      "Passed 0 steps.\n",
      "Passed 0 steps.\n",
      "Passed 0 steps.\n",
      "Passed 0 steps.\n",
      "Passed 0 steps.\n",
      "Passed 0 steps.\n",
      "Passed 0 steps.\n",
      "Passed 0 steps.\n",
      "Passed 0 steps.\n",
      "Passed 0 steps.\n",
      "Passed 0 steps.\n",
      "Passed 0 steps.\n",
      "Passed 0 steps.\n",
      "Passed 0 steps.\n",
      "Passed 0 steps.\n",
      "Passed 0 steps.\n",
      "Passed 0 steps.\n",
      "Passed 0 steps.\n",
      "Passed 0 steps.\n",
      "Passed 0 steps.\n",
      "Passed 0 steps.\n",
      "Passed 0 steps.\n",
      "Passed 0 steps.\n",
      "Passed 0 steps.\n",
      "Passed 0 steps.\n",
      "Passed 0 steps.\n",
      "Passed 0 steps.\n",
      "Passed 0 steps.\n",
      "Passed 0 steps.\n",
      "Passed 0 steps.\n",
      "Passed 0 steps.\n",
      "Passed 0 steps.\n",
      "Passed 0 steps.\n",
      "Passed 0 steps.\n",
      "Passed 0 steps.\n",
      "Passed 0 steps.\n",
      "Passed 0 steps.\n",
      "Passed 0 steps.\n",
      "Passed 0 steps.\n",
      "Passed 0 steps.\n",
      "Passed 0 steps.\n",
      "Passed 0 steps.\n",
      "Passed 0 steps.\n",
      "Passed 0 steps.\n",
      "Passed 0 steps.\n",
      "Passed 0 steps.\n",
      "Passed 0 steps.\n",
      "Passed 0 steps.\n",
      "Passed 0 steps.\n",
      "Passed 0 steps.\n",
      "Passed 0 steps.\n",
      "Passed 0 steps.\n",
      "Passed 0 steps.\n",
      "Passed 0 steps.\n",
      "Passed 0 steps.\n",
      "Passed 0 steps.\n",
      "Passed 0 steps.\n",
      "Passed 0 steps.\n",
      "Passed 0 steps.\n",
      "Passed 0 steps.\n",
      "Passed 0 steps.\n",
      "Passed 0 steps.\n",
      "Passed 0 steps.\n",
      "Passed 0 steps.\n",
      "Passed 0 steps.\n",
      "Passed 0 steps.\n",
      "Passed 0 steps.\n",
      "Passed 0 steps.\n",
      "Passed 0 steps.\n",
      "Passed 0 steps.\n",
      "Passed 0 steps.\n",
      "Passed 0 steps.\n",
      "Passed 0 steps.\n",
      "Passed 0 steps.\n",
      "Passed 0 steps.\n",
      "Passed 0 steps.\n",
      "Passed 0 steps.\n",
      "Passed 0 steps.\n",
      "Passed 0 steps.\n",
      "Passed 0 steps.\n",
      "Passed 0 steps.\n",
      "Passed 0 steps.\n",
      "Passed 0 steps.\n",
      "Passed 0 steps.\n",
      "Passed 0 steps.\n",
      "Passed 0 steps.\n",
      "Passed 0 steps.\n",
      "Passed 0 steps.\n",
      "Passed 0 steps.\n",
      "Passed 0 steps.\n",
      "Passed 0 steps.\n",
      "Passed 0 steps.\n",
      "Passed 0 steps.\n",
      "Passed 0 steps.\n",
      "Passed 0 steps.\n",
      "Passed 0 steps.\n",
      "Passed 0 steps.\n",
      "Passed 0 steps.\n",
      "Passed 0 steps.\n",
      "Passed 0 steps.\n",
      "Passed 0 steps.\n",
      "Passed 0 steps.\n",
      "Passed 0 steps.\n",
      "Passed 0 steps.\n",
      "Passed 0 steps.\n",
      "Passed 0 steps.\n",
      "Passed 0 steps.\n",
      "Passed 0 steps.\n",
      "Passed 0 steps.\n",
      "Passed 0 steps.\n",
      "Passed 0 steps.\n",
      "Passed 0 steps.\n",
      "Passed 0 steps.\n",
      "Passed 0 steps.\n",
      "Passed 0 steps.\n",
      "Passed 0 steps.\n",
      "Passed 0 steps.\n",
      "Passed 0 steps.\n",
      "Passed 0 steps.\n",
      "Passed 0 steps.\n",
      "Passed 0 steps.\n",
      "Passed 0 steps.\n",
      "Passed 0 steps.\n",
      "Passed 0 steps.\n",
      "Passed 0 steps.\n",
      "Passed 0 steps.\n",
      "Passed 0 steps.\n",
      "Passed 0 steps.\n",
      "Passed 0 steps.\n",
      "Passed 0 steps.\n",
      "Passed 0 steps.\n",
      "Passed 0 steps.\n",
      "Passed 0 steps.\n",
      "Passed 0 steps.\n",
      "Passed 0 steps.\n",
      "Passed 0 steps.\n",
      "Passed 0 steps.\n",
      "Passed 0 steps.\n",
      "Passed 0 steps.\n",
      "Passed 0 steps.\n",
      "Passed 0 steps.\n",
      "Passed 0 steps.\n",
      "Passed 0 steps.\n",
      "Passed 0 steps.\n",
      "Passed 0 steps.\n",
      "Passed 0 steps.\n",
      "Passed 0 steps.\n",
      "Passed 0 steps.\n",
      "Passed 0 steps.\n",
      "Passed 0 steps.\n",
      "Passed 0 steps.\n",
      "Passed 0 steps.\n",
      "Passed 0 steps.\n",
      "Passed 0 steps.\n",
      "Passed 0 steps.\n",
      "Passed 0 steps.\n",
      "Passed 0 steps.\n",
      "Passed 0 steps.\n",
      "Passed 0 steps.\n",
      "Passed 0 steps.\n",
      "Passed 0 steps.\n",
      "Passed 0 steps.\n",
      "Passed 0 steps.\n",
      "Passed 0 steps.\n",
      "Passed 0 steps.\n",
      "Passed 0 steps.\n",
      "Passed 0 steps.\n",
      "Passed 0 steps.\n",
      "Passed 0 steps.\n",
      "Passed 0 steps.\n",
      "Passed 0 steps.\n",
      "Passed 0 steps.\n",
      "Passed 0 steps.\n",
      "Passed 0 steps.\n",
      "Passed 0 steps.\n",
      "Passed 0 steps.\n",
      "Passed 0 steps.\n",
      "Passed 0 steps.\n",
      "Passed 0 steps.\n"
     ]
    }
   ],
   "source": [
    "num_runs = 300\n",
    "n_steps =  100000\n",
    "Q_list = []\n",
    "for n in range(num_runs):\n",
    "    optimal_policy, Q = sarsa(env, n_steps=n_steps, gamma=GAMMA, alpha=ALPHA, begin_epsilon=1, end_epsilon=0.001, verbose=True)\n",
    "    Q_list.append(Q)\n",
    "Q_td_sarsa = np.array(Q_list).mean(axis=0)"
   ]
  },
  {
   "cell_type": "code",
   "execution_count": 163,
   "id": "0798a5b9-0989-497c-97bd-159c24527577",
   "metadata": {},
   "outputs": [],
   "source": [
    "policy_td_sarsa = compute_optimal_policy(env, Q_td_sarsa)"
   ]
  },
  {
   "cell_type": "code",
   "execution_count": 164,
   "id": "4b161da0-dab0-476f-805e-ef770fbafebc",
   "metadata": {},
   "outputs": [],
   "source": [
    "env.reset()\n",
    "\n",
    "# This is for one policy\n",
    "total_return = 0 \n",
    "for n in range(num_runs):\n",
    "    for ep in range(n_episodes):\n",
    "        action = np.argmax(policy_td_sarsa[env.current_state])\n",
    "        reward, next_state, done = env.step(action)\n",
    "        if done:\n",
    "            #print(f'Completed in {ep} episodes')\n",
    "            break\n",
    "        total_return += reward  # return for one run, but they can be different so we need to average them over many independent runs\n",
    "    env.reset()\n",
    "        \n",
    "# average return of the policy \"policy_td_sarsa\"\n",
    "avarage_return_sarsa=total_return/ num_runs"
   ]
  },
  {
   "cell_type": "code",
   "execution_count": 165,
   "id": "bf88ec1e-f869-4dbc-a6a1-6ef15faf7cef",
   "metadata": {},
   "outputs": [
    {
     "data": {
      "text/plain": [
       "39.49333333333333"
      ]
     },
     "execution_count": 165,
     "metadata": {},
     "output_type": "execute_result"
    }
   ],
   "source": [
    "avarage_return_sarsa"
   ]
  },
  {
   "cell_type": "markdown",
   "id": "e10acd04-065a-4485-9e73-e6beb2fec86d",
   "metadata": {},
   "source": [
    "### Q-learning"
   ]
  },
  {
   "cell_type": "code",
   "execution_count": 166,
   "id": "b3b73340-c399-4964-b4e7-13ede7eb0d79",
   "metadata": {},
   "outputs": [
    {
     "name": "stdout",
     "output_type": "stream",
     "text": [
      "Passed 0 steps.\n"
     ]
    }
   ],
   "source": [
    "n_steps = 100000\n",
    "policy_td_q_learning, Q = q_learning(env, n_steps=n_steps, gamma=GAMMA, alpha=ALPHA, begin_epsilon=1, end_epsilon=0.01, verbose=True)"
   ]
  },
  {
   "cell_type": "code",
   "execution_count": 167,
   "id": "643faef8-470e-4f74-ac44-2572bf587f21",
   "metadata": {},
   "outputs": [],
   "source": [
    "env.reset()\n",
    "# This is for one policy policy_td_q_learning\n",
    "total_return = 0\n",
    "for n in range(num_runs):\n",
    "    for ep in range(n_episodes):\n",
    "        action = np.argmax(policy_td_q_learning[env.current_state])\n",
    "        reward, next_state, done = env.step(action)\n",
    "        if done:\n",
    "            #print(f'Completed in {ep} episodes')\n",
    "            break\n",
    "        total_return += reward  # return for one run, but they can be different so we need to average them over many independent runs\n",
    "    env.reset()\n",
    "        \n",
    "# average return of the policy \"policy_td_q_learning\"\n",
    "avarage_return_q=total_return/ num_runs"
   ]
  },
  {
   "cell_type": "code",
   "execution_count": 168,
   "id": "eb128af9-f557-4db8-ac09-78c845bd8e11",
   "metadata": {},
   "outputs": [
    {
     "data": {
      "text/plain": [
       "33.60666666666667"
      ]
     },
     "execution_count": 168,
     "metadata": {},
     "output_type": "execute_result"
    }
   ],
   "source": [
    "avarage_return_q"
   ]
  },
  {
   "cell_type": "markdown",
   "id": "a1a86dfc-51bc-47b4-a235-807e2a8cf19f",
   "metadata": {},
   "source": [
    "# VFA"
   ]
  },
  {
   "cell_type": "code",
   "execution_count": 169,
   "id": "f0239a39-b038-4950-a5fe-a1adc3e7fc39",
   "metadata": {},
   "outputs": [],
   "source": [
    "feature_extractor  = FeatureExtractor(env)"
   ]
  },
  {
   "cell_type": "code",
   "execution_count": 170,
   "id": "5c4a0c85-6600-4fd4-8226-021e431ce505",
   "metadata": {},
   "outputs": [],
   "source": [
    "vfa = VFA(env, feature_extractor, alpha=ALPHA, gamma=GAMMA, epsilon=1)"
   ]
  },
  {
   "cell_type": "markdown",
   "id": "a1f1fd22-a595-450b-90c0-ca42a9dfc197",
   "metadata": {},
   "source": [
    "### Sarsa"
   ]
  },
  {
   "cell_type": "code",
   "execution_count": 171,
   "id": "a91edd7f-3e9d-409b-a70e-ca6b1c3773a7",
   "metadata": {},
   "outputs": [],
   "source": [
    "Q_vfa_sarsa = vfa.semi_gradient_sarsa(n_steps=200000, begin_epsilon=1, end_epsilon=0.1)\n",
    "policy_vfa_sarsa = compute_optimal_policy(env, Q_vfa_sarsa)"
   ]
  },
  {
   "cell_type": "code",
   "execution_count": 172,
   "id": "68897fa8-e44a-4d6a-9546-756f7ff03532",
   "metadata": {},
   "outputs": [],
   "source": [
    "env.reset()\n",
    "# This is for one policy policy_vfa_sarsa\n",
    "total_return = 0\n",
    "for n in range(num_runs):\n",
    "    for ep in range(n_episodes):\n",
    "        action = np.argmax(policy_vfa_sarsa[env.current_state])\n",
    "        reward, next_state, done = env.step(action)\n",
    "        if done:\n",
    "            #print(f'Completed in {ep} episodes')\n",
    "            break\n",
    "        total_return += reward  # return for one run, but they can be different so we need to average them over many independent runs\n",
    "    env.reset()\n",
    "        \n",
    "# average return of the policy \"policy_vfa_sarsa\"\n",
    "avarage_return_VFA_sarsa=total_return/ num_runs"
   ]
  },
  {
   "cell_type": "code",
   "execution_count": 173,
   "id": "af0c1bb5-a854-41d6-9517-586cb2b1a959",
   "metadata": {},
   "outputs": [
    {
     "data": {
      "text/plain": [
       "-140.0"
      ]
     },
     "execution_count": 173,
     "metadata": {},
     "output_type": "execute_result"
    }
   ],
   "source": [
    "avarage_return_VFA_sarsa"
   ]
  },
  {
   "cell_type": "markdown",
   "id": "b913f696-88d3-4be9-82f3-98e66fbac495",
   "metadata": {},
   "source": [
    "### Q-learning"
   ]
  },
  {
   "cell_type": "code",
   "execution_count": 174,
   "id": "30351f3f-fc08-4d56-9fcc-9dda334503e3",
   "metadata": {},
   "outputs": [],
   "source": [
    "Q_vfa_qlearning = vfa.semi_gradient_qlearning(n_steps=20000, begin_epsilon=1, end_epsilon=0.1)\n",
    "policy_vfa_qlearning = compute_optimal_policy(env, Q_vfa_qlearning)"
   ]
  },
  {
   "cell_type": "code",
   "execution_count": 175,
   "id": "a9a0b902-0615-4f34-b4ea-6126a04e802a",
   "metadata": {},
   "outputs": [],
   "source": [
    "env.reset()\n",
    "# This is for one policy policy_vfa_qlearning\n",
    "total_return = 0\n",
    "for n in range(num_runs):\n",
    "    for ep in range(n_episodes):\n",
    "        action = np.argmax(policy_vfa_qlearning[env.current_state])\n",
    "        reward, next_state, done = env.step(action)\n",
    "        if done:\n",
    "            print(f'Completed in {ep} episodes')\n",
    "            break\n",
    "        total_return += reward  # return for one run, but they can be different so we need to average them over many independent runs\n",
    "    env.reset()\n",
    "        \n",
    "# average return of the policy \"policy_vfa_qlearning\"\n",
    "avarage_return_VFA_q=total_return/ num_runs"
   ]
  },
  {
   "cell_type": "code",
   "execution_count": 176,
   "id": "31a50e41-33ff-450c-9cc9-6ee17eaf1c24",
   "metadata": {},
   "outputs": [
    {
     "data": {
      "text/plain": [
       "-140.0"
      ]
     },
     "execution_count": 176,
     "metadata": {},
     "output_type": "execute_result"
    }
   ],
   "source": [
    "avarage_return_VFA_q"
   ]
  },
  {
   "cell_type": "markdown",
   "id": "edd26c99-2e1b-47bc-9c5c-be750a603ea6",
   "metadata": {},
   "source": [
    "## DQN"
   ]
  },
  {
   "cell_type": "code",
   "execution_count": 177,
   "id": "2de5f1f4",
   "metadata": {},
   "outputs": [],
   "source": [
    "batch_size = 32\n",
    "EPISODES = 100\n",
    "num_iterations= 100"
   ]
  },
  {
   "cell_type": "code",
   "execution_count": 178,
   "id": "e72f7cea",
   "metadata": {},
   "outputs": [
    {
     "name": "stdout",
     "output_type": "stream",
     "text": [
      "Saved checkpoint for episode 50 at 'trained_agents/model_checkpoint_episode_50.pth'\n",
      "Saved checkpoint for episode 100 at 'trained_agents/model_checkpoint_episode_100.pth'\n"
     ]
    }
   ],
   "source": [
    "Q=DQN_train(env, batch_size, EPISODES, num_iterations)"
   ]
  },
  {
   "cell_type": "code",
   "execution_count": 179,
   "id": "38500f12-ef26-4d50-b567-8f84d3119619",
   "metadata": {},
   "outputs": [],
   "source": [
    "def test_DQN(env, checkpoint_path):\n",
    "    \"\"\"\n",
    "    Test our DQN algorithm, loading it from the checkpoint file and output cumulative return.\n",
    "    \n",
    "    Args:\n",
    "        env: a MDP enviornment\n",
    "        checkpoint_path: take the file  \n",
    "    \"\"\" \n",
    "    \n",
    "    # Initialize the state, the action size and the state size\n",
    "    state= env.reset()\n",
    "    state_size = 1\n",
    "    action_size = len(env.get_possible_actions(state))\n",
    "    \n",
    "    # initialize the model\n",
    "    loaded_model = DQN(state_size, action_size)\n",
    " \n",
    "    # Load the state dictionary into the model\n",
    "    loaded_model.load_state_dict(torch.load(checkpoint_path))\n",
    "\n",
    "    loaded_model.to(device) \n",
    "\n",
    "    # initilize the agent \n",
    "    agent = DQNAgent(env, state_size, action_size)\n",
    "    agent.model = loaded_model\n",
    "    agent.target_model = loaded_model\n",
    "    agent.epsilon = 0.1\n",
    "    \n",
    "    # initialize the variables needed\n",
    "    done = False\n",
    "    total_reward = 0\n",
    "    \n",
    "    # Loop until the episode ends ( we can't do it, it's too computational expensive, so we put a threshold)\n",
    "    for _ in range(10000):# not done:\n",
    "\n",
    "        # Reshape the state for the DQN\n",
    "        state = np.reshape(state, [1, state_size])\n",
    "\n",
    "        # Select an action following the greedy policy\n",
    "        action = agent.act(state, training=False)\n",
    "\n",
    "        # Perform the action and store the next_state the reward and if the state is terminal\n",
    "        reward, next_state, done = env.step(action)\n",
    "\n",
    "        # Move to the next state\n",
    "        state = next_state\n",
    "\n",
    "        # check if the state is terminal\n",
    "        if done:\n",
    "            break\n",
    "        \n",
    "        # update reward\n",
    "        total_reward += reward\n",
    "    \n",
    "    return (f'Total reward: {total_reward}')"
   ]
  },
  {
   "cell_type": "code",
   "execution_count": 180,
   "id": "50419dff-2c0f-4f7d-905e-7e29c80ebaf5",
   "metadata": {},
   "outputs": [],
   "source": [
    "checkpoint_path = \"trained_agents/model_checkpoint_episode_100.pth\""
   ]
  },
  {
   "cell_type": "code",
   "execution_count": 184,
   "id": "833a4678-7a72-42fe-a0cd-358864b02553",
   "metadata": {},
   "outputs": [
    {
     "data": {
      "text/plain": [
       "'Total reward: 0'"
      ]
     },
     "execution_count": 184,
     "metadata": {},
     "output_type": "execute_result"
    }
   ],
   "source": [
    "test_DQN(env, checkpoint_path)"
   ]
  },
  {
   "cell_type": "code",
   "execution_count": 185,
   "id": "0df0c058-545f-4e0a-a3aa-fdf24bd41b88",
   "metadata": {},
   "outputs": [],
   "source": [
    "# Initialize the state, the action size and the state size\n",
    "state= env.reset()\n",
    "state_size = 1\n",
    "action_size = len(env.get_possible_actions(state))\n",
    "\n",
    "# initialize the model\n",
    "loaded_model = DQN(state_size, action_size)\n",
    "\n",
    "# Load the state dictionary into the model\n",
    "loaded_model.load_state_dict(torch.load(checkpoint_path))\n",
    "\n",
    "loaded_model.to(device) \n",
    "\n",
    "# initilize the agent \n",
    "agent = DQNAgent(env, state_size, action_size)\n",
    "agent.model = loaded_model\n",
    "agent.target_model = loaded_model\n",
    "agent.epsilon = 0.1\n",
    "\n",
    "# initialize the variables needed\n",
    "done = False\n",
    "total_reward = 0\n",
    "\n",
    "# Loop until the episode ends ( we can't do it, it's too computational expensive, so we put a threshold)\n",
    "for n in range(num_runs):\n",
    "    for ep in range(n_episodes):\n",
    "        # Reshape the state for the DQN\n",
    "        state = np.reshape(state, [1, state_size])\n",
    "\n",
    "        # Select an action following the greedy policy\n",
    "        action = agent.act(state, training=False)\n",
    "\n",
    "        # Perform the action and store the next_state the reward and if the state is terminal\n",
    "        reward, next_state, done = env.step(action)\n",
    "\n",
    "        # Move to the next state\n",
    "        state = next_state\n",
    "\n",
    "        # check if the state is terminal\n",
    "        if done:\n",
    "            break\n",
    "        \n",
    "        # update reward\n",
    "        total_reward += reward\n",
    "        \n",
    "        # Move to the next state\n",
    "    env.reset()\n",
    "        \n",
    "        # check if the state is terminal\n",
    "      \n",
    "\n",
    "avarage_return_dqn=total_reward/ num_runs"
   ]
  },
  {
   "cell_type": "code",
   "execution_count": 186,
   "id": "252a43d2-bf01-4bf8-b2c0-b2bb0ab1f38c",
   "metadata": {},
   "outputs": [
    {
     "data": {
      "text/plain": [
       "0.0"
      ]
     },
     "execution_count": 186,
     "metadata": {},
     "output_type": "execute_result"
    }
   ],
   "source": [
    "avarage_return_dqn"
   ]
  },
  {
   "cell_type": "markdown",
   "id": "f491c57b-55a8-4d45-998e-27fb9e1744d8",
   "metadata": {},
   "source": [
    "## Bar plot"
   ]
  },
  {
   "cell_type": "code",
   "execution_count": 187,
   "id": "227a5379-0c9e-4338-8ed3-2bea98a17a28",
   "metadata": {
    "scrolled": true
   },
   "outputs": [
    {
     "data": {
      "text/plain": [
       "Text(0.5, 1.0, 'Avarage reward for 5 rooms')"
      ]
     },
     "execution_count": 187,
     "metadata": {},
     "output_type": "execute_result"
    },
    {
     "data": {
      "image/png": "[encoded data removed]",
      "text/plain": [
       "<Figure size 640x480 with 1 Axes>"
      ]
     },
     "metadata": {},
     "output_type": "display_data"
    }
   ],
   "source": [
    "plt.bar(['DP','MC','TD_SARSA','TD_Q','VFA_SARSA','VFA_Q','DQN'],[avarage_return_dp, avarage_return_mc,avarage_return_sarsa, avarage_return_q, avarage_return_VFA_sarsa, avarage_return_VFA_q,avarage_return_dqn], width = 0.5)\n",
    "plt.title('Avarage reward for 5 rooms')"
   ]
  },
  {
   "cell_type": "code",
   "execution_count": null,
   "id": "afd35c12-568a-4501-b3ed-d19bca992f8b",
   "metadata": {},
   "outputs": [],
   "source": []
  }
 ],
 "metadata": {
  "kernelspec": {
   "display_name": "Python 3 (ipykernel)",
   "language": "python",
   "name": "python3"
  },
  "language_info": {
   "codemirror_mode": {
    "name": "ipython",
    "version": 3
   },
   "file_extension": ".py",
   "mimetype": "text/x-python",
   "name": "python",
   "nbconvert_exporter": "python",
   "pygments_lexer": "ipython3",
   "version": "3.11.0"
  }
 },
 "nbformat": 4,
 "nbformat_minor": 5
}
