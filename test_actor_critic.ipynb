{
 "cells": [
  {
   "cell_type": "code",
   "execution_count": 1,
   "id": "0c38980c-12d0-4ff6-9aeb-852d4ba08802",
   "metadata": {
    "tags": []
   },
   "outputs": [],
   "source": [
    "from utils import *\n",
    "from env import EggsHuntEnv\n",
    "from algs_dp import *\n",
    "from algs_td import *\n",
    "from algs_vfa import *\n",
    "from algs_mc import *\n",
    "from algs_dqn import *\n",
    "from alg_ac import *"
   ]
  },
  {
   "cell_type": "markdown",
   "id": "ec57eef8-6dc7-46fe-8d91-bcd0192118d8",
   "metadata": {},
   "source": [
    "# 2 rooms"
   ]
  },
  {
   "cell_type": "code",
   "execution_count": 2,
   "id": "de4e0507-0349-4485-9ea7-60cc9a912fbe",
   "metadata": {
    "tags": []
   },
   "outputs": [
    {
     "data": {
      "text/plain": [
       "0"
      ]
     },
     "execution_count": 2,
     "metadata": {},
     "output_type": "execute_result"
    }
   ],
   "source": [
    " # Maximum number of eggs for each room\n",
    "n_eggs_list =     [5,    2 ,   #4 , 7, 6,\n",
    "                  ]\n",
    "# Number of rooms\n",
    "n_rooms = len(n_eggs_list)  \n",
    "\n",
    "# Initial probabilities to find an egg for each room\n",
    "initial_p_list =  [0.8,  0.3 , #0.5, 0.9, 0.6\n",
    "                  ]\n",
    "\n",
    "# Decay probability rates for each room\n",
    "decay_rate_list = [0.8,  0.9  , #0.7, 0.6, 0.4\n",
    "                  ]\n",
    "\n",
    "\n",
    "# create the environment\n",
    "transition_probabilities, states, actions, total_eggs = create_environment(n_rooms, n_eggs_list, initial_p_list, decay_rate_list)\n",
    "\n",
    "# initialize the environment\n",
    "env = EggsHuntEnv(states, actions, transition_probabilities, total_eggs)\n",
    "\n",
    "env.reset()\n"
   ]
  },
  {
   "cell_type": "code",
   "execution_count": 4,
   "id": "23a032e3-05dd-4881-af2f-da4f71d93188",
   "metadata": {
    "tags": []
   },
   "outputs": [
    {
     "name": "stderr",
     "output_type": "stream",
     "text": [
      "100%|██████████| 10000/10000 [00:10<00:00, 954.90it/s]\n"
     ]
    }
   ],
   "source": [
    "feature_extractor=FeatureExtractor(env)\n",
    "\n",
    "p = actor_critic_algorithm(env, n_steps=10000, feature_extractor=feature_extractor, \n",
    "                       alpha_w=0.01, alpha_theta=0.005, alpha_r=0.005, verbose=False)"
   ]
  },
  {
   "cell_type": "code",
   "execution_count": 5,
   "id": "174adbb5-c823-4385-b130-9f35945ab47a",
   "metadata": {
    "tags": []
   },
   "outputs": [
    {
     "name": "stdout",
     "output_type": "stream",
     "text": [
      "Completed in 94 episodes\n",
      "Completed in 56 episodes\n"
     ]
    },
    {
     "data": {
      "text/plain": [
       "(34.4,\n",
       " {'Run 1': (36, 99),\n",
       "  'Run 2': (8, 99),\n",
       "  'Run 3': (28, 99),\n",
       "  'Run 4': (26, 94),\n",
       "  'Run 5': (38, 99),\n",
       "  'Run 6': (40, 99),\n",
       "  'Run 7': (50, 56),\n",
       "  'Run 8': (40, 99),\n",
       "  'Run 9': (38, 99),\n",
       "  'Run 10': (40, 99)})"
      ]
     },
     "execution_count": 5,
     "metadata": {},
     "output_type": "execute_result"
    }
   ],
   "source": [
    "test_policy(env, p, n_episodes=100)"
   ]
  },
  {
   "cell_type": "markdown",
   "id": "94c6aa98-111f-42f1-b729-ced69abf0a3b",
   "metadata": {},
   "source": [
    "# 3 rooms"
   ]
  },
  {
   "cell_type": "code",
   "execution_count": 6,
   "id": "a3e6fde3-5010-4183-8f83-fdcbeb1b68e1",
   "metadata": {
    "tags": []
   },
   "outputs": [
    {
     "data": {
      "text/plain": [
       "0"
      ]
     },
     "execution_count": 6,
     "metadata": {},
     "output_type": "execute_result"
    }
   ],
   "source": [
    " # Maximum number of eggs for each room\n",
    "n_eggs_list =     [5,    2 ,   4 #, 7, 6,\n",
    "                  ]\n",
    "# Number of rooms\n",
    "n_rooms = len(n_eggs_list)  \n",
    "\n",
    "# Initial probabilities to find an egg for each room\n",
    "initial_p_list =  [0.8,  0.3 , 0.5#, 0.9, 0.6\n",
    "                  ]\n",
    "\n",
    "# Decay probability rates for each room\n",
    "decay_rate_list = [0.8,  0.9  , 0.7#, 0.6, 0.4\n",
    "                  ]\n",
    "# create the environment\n",
    "transition_probabilities, states, actions, total_eggs = create_environment(n_rooms, n_eggs_list, initial_p_list, decay_rate_list)\n",
    "\n",
    "# initialize the environment\n",
    "env = EggsHuntEnv(states, actions, transition_probabilities, total_eggs)\n",
    "\n",
    "env.reset()"
   ]
  },
  {
   "cell_type": "code",
   "execution_count": 29,
   "id": "8d468059-4163-401c-b8ef-8b009f3a630f",
   "metadata": {
    "tags": []
   },
   "outputs": [
    {
     "name": "stderr",
     "output_type": "stream",
     "text": [
      "100%|██████████| 5000/5000 [00:53<00:00, 93.12it/s]\n"
     ]
    }
   ],
   "source": [
    "feature_extractor=FeatureExtractor(env)\n",
    "\n",
    "p = actor_critic_algorithm(env, n_steps=5000, feature_extractor=feature_extractor, \n",
    "                       alpha_w=0.01, alpha_theta=0.009, alpha_r=0.01, verbose=False)"
   ]
  },
  {
   "cell_type": "code",
   "execution_count": 31,
   "id": "1ab266c2-bc7b-4c0d-9719-3b7357db5752",
   "metadata": {
    "tags": []
   },
   "outputs": [
    {
     "data": {
      "text/plain": [
       "(18.7,\n",
       " {'Run 1': (40, 99),\n",
       "  'Run 2': (16, 99),\n",
       "  'Run 3': (25, 99),\n",
       "  'Run 4': (8, 99),\n",
       "  'Run 5': (-15, 99),\n",
       "  'Run 6': (51, 99),\n",
       "  'Run 7': (12, 99),\n",
       "  'Run 8': (33, 99),\n",
       "  'Run 9': (11, 99),\n",
       "  'Run 10': (6, 99)})"
      ]
     },
     "execution_count": 31,
     "metadata": {},
     "output_type": "execute_result"
    }
   ],
   "source": [
    "test_policy(env, p, n_episodes=100)"
   ]
  },
  {
   "cell_type": "markdown",
   "id": "d8186b05-7de8-4a06-87f1-9e4a3a6100d4",
   "metadata": {},
   "source": [
    "# 4 Rooms"
   ]
  },
  {
   "cell_type": "code",
   "execution_count": 34,
   "id": "d03b83ac-0d5f-4a4b-917b-5402f077403b",
   "metadata": {
    "tags": []
   },
   "outputs": [
    {
     "data": {
      "text/plain": [
       "0"
      ]
     },
     "execution_count": 34,
     "metadata": {},
     "output_type": "execute_result"
    }
   ],
   "source": [
    " # Maximum number of eggs for each room\n",
    "n_eggs_list =     [5,    2 ,   4 , 7 #, 6,\n",
    "                  ]\n",
    "# Number of rooms\n",
    "n_rooms = len(n_eggs_list)  \n",
    "\n",
    "# Initial probabilities to find an egg for each room\n",
    "initial_p_list =  [0.8,  0.3 , 0.5, 0.9 #, 0.6\n",
    "                  ]\n",
    "\n",
    "# Decay probability rates for each room\n",
    "decay_rate_list = [0.8,  0.9  ,0.7, 0.6 #, 0.4\n",
    "                  ]\n",
    "\n",
    "GAMMA = 0.9\n",
    "\n",
    "ALPHA = 0.1\n",
    "\n",
    "# create the environment\n",
    "transition_probabilities, states, actions, total_eggs = create_environment(n_rooms, n_eggs_list, initial_p_list, decay_rate_list)\n",
    "\n",
    "# initialize the environment\n",
    "env = EggsHuntEnv(states, actions, transition_probabilities, total_eggs)\n",
    "\n",
    "env.reset()\n"
   ]
  },
  {
   "cell_type": "code",
   "execution_count": 35,
   "id": "3f1d07d8-3a31-4c22-a76b-683d773e493d",
   "metadata": {
    "tags": []
   },
   "outputs": [
    {
     "name": "stderr",
     "output_type": "stream",
     "text": [
      "100%|██████████| 15000/15000 [38:17<00:00,  6.53it/s]  \n"
     ]
    }
   ],
   "source": [
    "feature_extractor=FeatureExtractor(env)\n",
    "\n",
    "p = actor_critic_algorithm(env, n_steps=15000, feature_extractor=feature_extractor, \n",
    "                       alpha_w=0.01, alpha_theta=0.009, alpha_r=0.01, verbose=False)"
   ]
  },
  {
   "cell_type": "code",
   "execution_count": 44,
   "id": "bc5dd246-02f5-456c-80bc-22f9f2b3a45d",
   "metadata": {
    "tags": []
   },
   "outputs": [
    {
     "data": {
      "text/plain": [
       "(17.5,\n",
       " {'Run 1': (15, 99),\n",
       "  'Run 2': (14, 99),\n",
       "  'Run 3': (14, 99),\n",
       "  'Run 4': (2, 99),\n",
       "  'Run 5': (38, 99),\n",
       "  'Run 6': (2, 99),\n",
       "  'Run 7': (32, 99),\n",
       "  'Run 8': (28, 99),\n",
       "  'Run 9': (14, 99),\n",
       "  'Run 10': (16, 99)})"
      ]
     },
     "execution_count": 44,
     "metadata": {},
     "output_type": "execute_result"
    }
   ],
   "source": [
    "test_policy(env, p, n_episodes=100)"
   ]
  },
  {
   "cell_type": "code",
   "execution_count": 41,
   "id": "d43c0af8-2fa0-4ceb-90f4-c6223ffa0996",
   "metadata": {
    "tags": []
   },
   "outputs": [
    {
     "data": {
      "text/plain": [
       "127"
      ]
     },
     "execution_count": 41,
     "metadata": {},
     "output_type": "execute_result"
    }
   ],
   "source": []
  },
  {
   "cell_type": "code",
   "execution_count": null,
   "id": "3c233aef-abe3-4a69-a455-9d5acdede8f6",
   "metadata": {},
   "outputs": [],
   "source": []
  }
 ],
 "metadata": {
  "kernelspec": {
   "display_name": "Python 3 (ipykernel)",
   "language": "python",
   "name": "python3"
  },
  "language_info": {
   "codemirror_mode": {
    "name": "ipython",
    "version": 3
   },
   "file_extension": ".py",
   "mimetype": "text/x-python",
   "name": "python",
   "nbconvert_exporter": "python",
   "pygments_lexer": "ipython3",
   "version": "3.11.0"
  }
 },
 "nbformat": 4,
 "nbformat_minor": 5
}
